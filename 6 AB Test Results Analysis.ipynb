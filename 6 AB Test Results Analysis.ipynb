{
 "cells": [
  {
   "cell_type": "markdown",
   "metadata": {},
   "source": [
    "<h1 style=\"color:green; margin-bottom:15px;font-size:30px\">A/B Test Results Analysis</h1>"
   ]
  },
  {
   "cell_type": "markdown",
   "metadata": {},
   "source": [
    "# Project Description\n",
    "\n",
    "You are an analyst for a large online store. Together with the marketing department, you have prepared a list of hypotheses for increasing revenue. Prioritize hypotheses, run A/B test, and analyze the results."
   ]
  },
  {
   "cell_type": "markdown",
   "metadata": {},
   "source": [
    "# Contents\n",
    "\n",
    "<ol>\n",
    "<li>Libraries Import</li> \n",
    "<li>Hypotheses: Data Preprocessing</li> \n",
    "<li>Hypotheses: Data Description</li>   \n",
    "<li>Hypotheses Prioritization</li>  \n",
    "<li>A/B Test was conducted</li>  \n",
    "<li>Data Preprocessing: Orders</li> \n",
    "<li>Data Description: Orders</li>\n",
    "<li>Data Preprocessing: Visitors</li> \n",
    "<li>Data Description: Visitors</li>\n",
    "<li>A/B Test Results Analysis</li>\n",
    "<li>Conclusion</li>\n",
    "</ol>"
   ]
  },
  {
   "cell_type": "markdown",
   "metadata": {},
   "source": [
    "## 1. Libraries Import"
   ]
  },
  {
   "cell_type": "code",
   "execution_count": 1,
   "metadata": {},
   "outputs": [],
   "source": [
    "import pandas as pd\n",
    "import math\n",
    "import numpy as np\n",
    "import datetime as dt\n",
    "from scipy import stats as st\n",
    "import warnings\n",
    "warnings.filterwarnings('ignore')\n",
    "import matplotlib.pyplot as plt\n",
    "import seaborn as sns"
   ]
  },
  {
   "cell_type": "markdown",
   "metadata": {},
   "source": [
    "## 2. Hypotheses: Data Preprocessing"
   ]
  },
  {
   "cell_type": "markdown",
   "metadata": {},
   "source": [
    "<ul>\n",
    "<li>Let's convert variable names to lowercase with an underscore instead of spaces</li>\n",
    "<li>Convert variables types where needed</li>\n",
    "<li>Process outliers, gaps and duplicates</li>\n",
    "</ul>"
   ]
  },
  {
   "cell_type": "code",
   "execution_count": 2,
   "metadata": {},
   "outputs": [
    {
     "data": {
      "text/html": [
       "<div>\n",
       "<style scoped>\n",
       "    .dataframe tbody tr th:only-of-type {\n",
       "        vertical-align: middle;\n",
       "    }\n",
       "\n",
       "    .dataframe tbody tr th {\n",
       "        vertical-align: top;\n",
       "    }\n",
       "\n",
       "    .dataframe thead th {\n",
       "        text-align: right;\n",
       "    }\n",
       "</style>\n",
       "<table border=\"1\" class=\"dataframe\">\n",
       "  <thead>\n",
       "    <tr style=\"text-align: right;\">\n",
       "      <th></th>\n",
       "      <th>Hypothesis</th>\n",
       "      <th>Reach</th>\n",
       "      <th>Impact</th>\n",
       "      <th>Confidence</th>\n",
       "      <th>Efforts</th>\n",
       "    </tr>\n",
       "  </thead>\n",
       "  <tbody>\n",
       "    <tr>\n",
       "      <th>0</th>\n",
       "      <td>Add two new traffic channels to attract traffi...</td>\n",
       "      <td>3</td>\n",
       "      <td>10</td>\n",
       "      <td>8</td>\n",
       "      <td>6</td>\n",
       "    </tr>\n",
       "    <tr>\n",
       "      <th>1</th>\n",
       "      <td>Launch your own delivery service, which will r...</td>\n",
       "      <td>2</td>\n",
       "      <td>5</td>\n",
       "      <td>4</td>\n",
       "      <td>10</td>\n",
       "    </tr>\n",
       "    <tr>\n",
       "      <th>2</th>\n",
       "      <td>Add recommendations to the website to increase...</td>\n",
       "      <td>8</td>\n",
       "      <td>3</td>\n",
       "      <td>7</td>\n",
       "      <td>3</td>\n",
       "    </tr>\n",
       "    <tr>\n",
       "      <th>3</th>\n",
       "      <td>Change the structure of categories, which will...</td>\n",
       "      <td>8</td>\n",
       "      <td>3</td>\n",
       "      <td>3</td>\n",
       "      <td>8</td>\n",
       "    </tr>\n",
       "    <tr>\n",
       "      <th>4</th>\n",
       "      <td>Change the homepage background color to increa...</td>\n",
       "      <td>3</td>\n",
       "      <td>1</td>\n",
       "      <td>1</td>\n",
       "      <td>1</td>\n",
       "    </tr>\n",
       "    <tr>\n",
       "      <th>5</th>\n",
       "      <td>Add customer reviews page which will increase ...</td>\n",
       "      <td>3</td>\n",
       "      <td>2</td>\n",
       "      <td>2</td>\n",
       "      <td>3</td>\n",
       "    </tr>\n",
       "    <tr>\n",
       "      <th>6</th>\n",
       "      <td>Add banners with current promotions to the mai...</td>\n",
       "      <td>5</td>\n",
       "      <td>3</td>\n",
       "      <td>8</td>\n",
       "      <td>3</td>\n",
       "    </tr>\n",
       "    <tr>\n",
       "      <th>7</th>\n",
       "      <td>Add a subscription form to all main pages to b...</td>\n",
       "      <td>10</td>\n",
       "      <td>7</td>\n",
       "      <td>8</td>\n",
       "      <td>5</td>\n",
       "    </tr>\n",
       "    <tr>\n",
       "      <th>8</th>\n",
       "      <td>Launch a promotion that gives a birthday discount</td>\n",
       "      <td>1</td>\n",
       "      <td>9</td>\n",
       "      <td>9</td>\n",
       "      <td>5</td>\n",
       "    </tr>\n",
       "  </tbody>\n",
       "</table>\n",
       "</div>"
      ],
      "text/plain": [
       "                                          Hypothesis  Reach  Impact  \\\n",
       "0  Add two new traffic channels to attract traffi...      3      10   \n",
       "1  Launch your own delivery service, which will r...      2       5   \n",
       "2  Add recommendations to the website to increase...      8       3   \n",
       "3  Change the structure of categories, which will...      8       3   \n",
       "4  Change the homepage background color to increa...      3       1   \n",
       "5  Add customer reviews page which will increase ...      3       2   \n",
       "6  Add banners with current promotions to the mai...      5       3   \n",
       "7  Add a subscription form to all main pages to b...     10       7   \n",
       "8  Launch a promotion that gives a birthday discount      1       9   \n",
       "\n",
       "   Confidence  Efforts  \n",
       "0           8        6  \n",
       "1           4       10  \n",
       "2           7        3  \n",
       "3           3        8  \n",
       "4           1        1  \n",
       "5           2        3  \n",
       "6           8        3  \n",
       "7           8        5  \n",
       "8           9        5  "
      ]
     },
     "metadata": {},
     "output_type": "display_data"
    },
    {
     "name": "stdout",
     "output_type": "stream",
     "text": [
      "<class 'pandas.core.frame.DataFrame'>\n",
      "RangeIndex: 9 entries, 0 to 8\n",
      "Data columns (total 5 columns):\n",
      " #   Column      Non-Null Count  Dtype \n",
      "---  ------      --------------  ----- \n",
      " 0   Hypothesis  9 non-null      object\n",
      " 1   Reach       9 non-null      int64 \n",
      " 2   Impact      9 non-null      int64 \n",
      " 3   Confidence  9 non-null      int64 \n",
      " 4   Efforts     9 non-null      int64 \n",
      "dtypes: int64(4), object(1)\n",
      "memory usage: 488.0+ bytes\n"
     ]
    },
    {
     "data": {
      "text/plain": [
       "None"
      ]
     },
     "metadata": {},
     "output_type": "display_data"
    }
   ],
   "source": [
    "hyp=pd.read_csv('hypothesis.csv')\n",
    "display(hyp)\n",
    "display(hyp.info())"
   ]
  },
  {
   "cell_type": "code",
   "execution_count": 3,
   "metadata": {},
   "outputs": [
    {
     "name": "stdout",
     "output_type": "stream",
     "text": [
      "<class 'pandas.core.frame.DataFrame'>\n",
      "RangeIndex: 9 entries, 0 to 8\n",
      "Data columns (total 5 columns):\n",
      " #   Column      Non-Null Count  Dtype \n",
      "---  ------      --------------  ----- \n",
      " 0   hypothesis  9 non-null      object\n",
      " 1   reach       9 non-null      int64 \n",
      " 2   impact      9 non-null      int64 \n",
      " 3   confidence  9 non-null      int64 \n",
      " 4   efforts     9 non-null      int64 \n",
      "dtypes: int64(4), object(1)\n",
      "memory usage: 488.0+ bytes\n"
     ]
    },
    {
     "data": {
      "text/plain": [
       "None"
      ]
     },
     "metadata": {},
     "output_type": "display_data"
    }
   ],
   "source": [
    "hyp.columns = hyp.columns.str.lower()\n",
    "display(hyp.info())"
   ]
  },
  {
   "cell_type": "markdown",
   "metadata": {},
   "source": [
    "## 3 Hypotheses: Data Description\n",
    "\n",
    "**the table has 9 hypotheses and 5 variables describing them**\n",
    "\n",
    "hypothesis — hypothesis name, object type;\n",
    "\n",
    "reach — users reach on a 10-point scale, type int64;\n",
    "\n",
    "impact - users impact on a 10-point scale, type int64;\n",
    "\n",
    "confidence - confidence on a 10-point scale, type int64;\n",
    "\n",
    "efforts — the cost of resources to test the hypothesis on a 10-point scale. The larger the efforts value, the more expensive the hypothesis test, type int64.\n",
    "\n",
    "**Data does not contain gaps, outliers or duplicates. Variable types do not need to be changed. Variable names are lowercased.**"
   ]
  },
  {
   "cell_type": "markdown",
   "metadata": {},
   "source": [
    "## 4. Hypotheses Prioritization "
   ]
  },
  {
   "cell_type": "markdown",
   "metadata": {},
   "source": [
    "### 4.1 ICE Framework\n",
    "\n",
    "ICE = impact * confidence / efforts"
   ]
  },
  {
   "cell_type": "code",
   "execution_count": 4,
   "metadata": {},
   "outputs": [
    {
     "data": {
      "text/html": [
       "<div>\n",
       "<style scoped>\n",
       "    .dataframe tbody tr th:only-of-type {\n",
       "        vertical-align: middle;\n",
       "    }\n",
       "\n",
       "    .dataframe tbody tr th {\n",
       "        vertical-align: top;\n",
       "    }\n",
       "\n",
       "    .dataframe thead th {\n",
       "        text-align: right;\n",
       "    }\n",
       "</style>\n",
       "<table border=\"1\" class=\"dataframe\">\n",
       "  <thead>\n",
       "    <tr style=\"text-align: right;\">\n",
       "      <th></th>\n",
       "      <th>hypothesis</th>\n",
       "      <th>reach</th>\n",
       "      <th>impact</th>\n",
       "      <th>confidence</th>\n",
       "      <th>efforts</th>\n",
       "      <th>ice</th>\n",
       "    </tr>\n",
       "  </thead>\n",
       "  <tbody>\n",
       "    <tr>\n",
       "      <th>8</th>\n",
       "      <td>Launch a promotion that gives a birthday discount</td>\n",
       "      <td>1</td>\n",
       "      <td>9</td>\n",
       "      <td>9</td>\n",
       "      <td>5</td>\n",
       "      <td>16.20</td>\n",
       "    </tr>\n",
       "    <tr>\n",
       "      <th>0</th>\n",
       "      <td>Add two new traffic channels to attract traffi...</td>\n",
       "      <td>3</td>\n",
       "      <td>10</td>\n",
       "      <td>8</td>\n",
       "      <td>6</td>\n",
       "      <td>13.33</td>\n",
       "    </tr>\n",
       "    <tr>\n",
       "      <th>7</th>\n",
       "      <td>Add a subscription form to all main pages to b...</td>\n",
       "      <td>10</td>\n",
       "      <td>7</td>\n",
       "      <td>8</td>\n",
       "      <td>5</td>\n",
       "      <td>11.20</td>\n",
       "    </tr>\n",
       "    <tr>\n",
       "      <th>6</th>\n",
       "      <td>Add banners with current promotions to the mai...</td>\n",
       "      <td>5</td>\n",
       "      <td>3</td>\n",
       "      <td>8</td>\n",
       "      <td>3</td>\n",
       "      <td>8.00</td>\n",
       "    </tr>\n",
       "    <tr>\n",
       "      <th>2</th>\n",
       "      <td>Add recommendations to the website to increase...</td>\n",
       "      <td>8</td>\n",
       "      <td>3</td>\n",
       "      <td>7</td>\n",
       "      <td>3</td>\n",
       "      <td>7.00</td>\n",
       "    </tr>\n",
       "    <tr>\n",
       "      <th>1</th>\n",
       "      <td>Launch your own delivery service, which will r...</td>\n",
       "      <td>2</td>\n",
       "      <td>5</td>\n",
       "      <td>4</td>\n",
       "      <td>10</td>\n",
       "      <td>2.00</td>\n",
       "    </tr>\n",
       "    <tr>\n",
       "      <th>5</th>\n",
       "      <td>Add customer reviews page which will increase ...</td>\n",
       "      <td>3</td>\n",
       "      <td>2</td>\n",
       "      <td>2</td>\n",
       "      <td>3</td>\n",
       "      <td>1.33</td>\n",
       "    </tr>\n",
       "    <tr>\n",
       "      <th>3</th>\n",
       "      <td>Change the structure of categories, which will...</td>\n",
       "      <td>8</td>\n",
       "      <td>3</td>\n",
       "      <td>3</td>\n",
       "      <td>8</td>\n",
       "      <td>1.12</td>\n",
       "    </tr>\n",
       "    <tr>\n",
       "      <th>4</th>\n",
       "      <td>Change the homepage background color to increa...</td>\n",
       "      <td>3</td>\n",
       "      <td>1</td>\n",
       "      <td>1</td>\n",
       "      <td>1</td>\n",
       "      <td>1.00</td>\n",
       "    </tr>\n",
       "  </tbody>\n",
       "</table>\n",
       "</div>"
      ],
      "text/plain": [
       "                                          hypothesis  reach  impact  \\\n",
       "8  Launch a promotion that gives a birthday discount      1       9   \n",
       "0  Add two new traffic channels to attract traffi...      3      10   \n",
       "7  Add a subscription form to all main pages to b...     10       7   \n",
       "6  Add banners with current promotions to the mai...      5       3   \n",
       "2  Add recommendations to the website to increase...      8       3   \n",
       "1  Launch your own delivery service, which will r...      2       5   \n",
       "5  Add customer reviews page which will increase ...      3       2   \n",
       "3  Change the structure of categories, which will...      8       3   \n",
       "4  Change the homepage background color to increa...      3       1   \n",
       "\n",
       "   confidence  efforts    ice  \n",
       "8           9        5  16.20  \n",
       "0           8        6  13.33  \n",
       "7           8        5  11.20  \n",
       "6           8        3   8.00  \n",
       "2           7        3   7.00  \n",
       "1           4       10   2.00  \n",
       "5           2        3   1.33  \n",
       "3           3        8   1.12  \n",
       "4           1        1   1.00  "
      ]
     },
     "metadata": {},
     "output_type": "display_data"
    }
   ],
   "source": [
    "hyp['ice'] = round(hyp['impact'] * hyp['confidence'] / hyp ['efforts'],2)\n",
    "display(hyp.sort_values('ice', ascending=False))"
   ]
  },
  {
   "cell_type": "markdown",
   "metadata": {},
   "source": [
    "### 4.2 RICE Framework\n",
    "\n",
    "RICE = reach * impact * confidence / efforts"
   ]
  },
  {
   "cell_type": "code",
   "execution_count": 5,
   "metadata": {},
   "outputs": [
    {
     "data": {
      "text/html": [
       "<div>\n",
       "<style scoped>\n",
       "    .dataframe tbody tr th:only-of-type {\n",
       "        vertical-align: middle;\n",
       "    }\n",
       "\n",
       "    .dataframe tbody tr th {\n",
       "        vertical-align: top;\n",
       "    }\n",
       "\n",
       "    .dataframe thead th {\n",
       "        text-align: right;\n",
       "    }\n",
       "</style>\n",
       "<table border=\"1\" class=\"dataframe\">\n",
       "  <thead>\n",
       "    <tr style=\"text-align: right;\">\n",
       "      <th></th>\n",
       "      <th>hypothesis</th>\n",
       "      <th>reach</th>\n",
       "      <th>impact</th>\n",
       "      <th>confidence</th>\n",
       "      <th>efforts</th>\n",
       "      <th>ice</th>\n",
       "      <th>rice</th>\n",
       "    </tr>\n",
       "  </thead>\n",
       "  <tbody>\n",
       "    <tr>\n",
       "      <th>7</th>\n",
       "      <td>Add a subscription form to all main pages to b...</td>\n",
       "      <td>10</td>\n",
       "      <td>7</td>\n",
       "      <td>8</td>\n",
       "      <td>5</td>\n",
       "      <td>11.20</td>\n",
       "      <td>112.0</td>\n",
       "    </tr>\n",
       "    <tr>\n",
       "      <th>2</th>\n",
       "      <td>Add recommendations to the website to increase...</td>\n",
       "      <td>8</td>\n",
       "      <td>3</td>\n",
       "      <td>7</td>\n",
       "      <td>3</td>\n",
       "      <td>7.00</td>\n",
       "      <td>56.0</td>\n",
       "    </tr>\n",
       "    <tr>\n",
       "      <th>0</th>\n",
       "      <td>Add two new traffic channels to attract traffi...</td>\n",
       "      <td>3</td>\n",
       "      <td>10</td>\n",
       "      <td>8</td>\n",
       "      <td>6</td>\n",
       "      <td>13.33</td>\n",
       "      <td>40.0</td>\n",
       "    </tr>\n",
       "    <tr>\n",
       "      <th>6</th>\n",
       "      <td>Add banners with current promotions to the mai...</td>\n",
       "      <td>5</td>\n",
       "      <td>3</td>\n",
       "      <td>8</td>\n",
       "      <td>3</td>\n",
       "      <td>8.00</td>\n",
       "      <td>40.0</td>\n",
       "    </tr>\n",
       "    <tr>\n",
       "      <th>8</th>\n",
       "      <td>Launch a promotion that gives a birthday discount</td>\n",
       "      <td>1</td>\n",
       "      <td>9</td>\n",
       "      <td>9</td>\n",
       "      <td>5</td>\n",
       "      <td>16.20</td>\n",
       "      <td>16.2</td>\n",
       "    </tr>\n",
       "    <tr>\n",
       "      <th>3</th>\n",
       "      <td>Change the structure of categories, which will...</td>\n",
       "      <td>8</td>\n",
       "      <td>3</td>\n",
       "      <td>3</td>\n",
       "      <td>8</td>\n",
       "      <td>1.12</td>\n",
       "      <td>9.0</td>\n",
       "    </tr>\n",
       "    <tr>\n",
       "      <th>1</th>\n",
       "      <td>Launch your own delivery service, which will r...</td>\n",
       "      <td>2</td>\n",
       "      <td>5</td>\n",
       "      <td>4</td>\n",
       "      <td>10</td>\n",
       "      <td>2.00</td>\n",
       "      <td>4.0</td>\n",
       "    </tr>\n",
       "    <tr>\n",
       "      <th>5</th>\n",
       "      <td>Add customer reviews page which will increase ...</td>\n",
       "      <td>3</td>\n",
       "      <td>2</td>\n",
       "      <td>2</td>\n",
       "      <td>3</td>\n",
       "      <td>1.33</td>\n",
       "      <td>4.0</td>\n",
       "    </tr>\n",
       "    <tr>\n",
       "      <th>4</th>\n",
       "      <td>Change the homepage background color to increa...</td>\n",
       "      <td>3</td>\n",
       "      <td>1</td>\n",
       "      <td>1</td>\n",
       "      <td>1</td>\n",
       "      <td>1.00</td>\n",
       "      <td>3.0</td>\n",
       "    </tr>\n",
       "  </tbody>\n",
       "</table>\n",
       "</div>"
      ],
      "text/plain": [
       "                                          hypothesis  reach  impact  \\\n",
       "7  Add a subscription form to all main pages to b...     10       7   \n",
       "2  Add recommendations to the website to increase...      8       3   \n",
       "0  Add two new traffic channels to attract traffi...      3      10   \n",
       "6  Add banners with current promotions to the mai...      5       3   \n",
       "8  Launch a promotion that gives a birthday discount      1       9   \n",
       "3  Change the structure of categories, which will...      8       3   \n",
       "1  Launch your own delivery service, which will r...      2       5   \n",
       "5  Add customer reviews page which will increase ...      3       2   \n",
       "4  Change the homepage background color to increa...      3       1   \n",
       "\n",
       "   confidence  efforts    ice   rice  \n",
       "7           8        5  11.20  112.0  \n",
       "2           7        3   7.00   56.0  \n",
       "0           8        6  13.33   40.0  \n",
       "6           8        3   8.00   40.0  \n",
       "8           9        5  16.20   16.2  \n",
       "3           3        8   1.12    9.0  \n",
       "1           4       10   2.00    4.0  \n",
       "5           2        3   1.33    4.0  \n",
       "4           1        1   1.00    3.0  "
      ]
     },
     "metadata": {},
     "output_type": "display_data"
    }
   ],
   "source": [
    "hyp['rice'] = round(hyp['reach'] * hyp['impact'] * hyp['confidence'] / hyp ['efforts'],2)\n",
    "display(hyp.sort_values('rice', ascending=False))"
   ]
  },
  {
   "cell_type": "markdown",
   "metadata": {},
   "source": [
    "### 4.3 Conclusion"
   ]
  },
  {
   "cell_type": "markdown",
   "metadata": {},
   "source": [
    "ICE has three highest priority hypotheses: 8 (ICE 16.20), 0 (ICE 13.33), 7 (ICE 11.20)\n",
    "\n",
    "RICE has three highest priority hypotheses: 7 (RICE 112.0), 2 (RICE 56.0), 0 (RICE 40.0).\n",
    "\n",
    "ICE and RICE ratings are different. Hypothesis 7 has the maximum Reach parameter (10), which brought it to the first place.\n",
    "\n",
    "It is important to consider how many users will be affected by a particular hypothesis, if analysts were guided only by the strength of hypotheses, they would start with hypothesis number 8, which will affect a very small part of users. It is better to trust the RICE framework and start with hypothesis number 7."
   ]
  },
  {
   "cell_type": "markdown",
   "metadata": {},
   "source": [
    "## 5. The A/B Test was conducted. The results can be found in the orders.csv and visitors.csv."
   ]
  },
  {
   "cell_type": "markdown",
   "metadata": {},
   "source": [
    "## 6. Data Preprocessing: Orders"
   ]
  },
  {
   "cell_type": "code",
   "execution_count": 6,
   "metadata": {},
   "outputs": [
    {
     "data": {
      "text/html": [
       "<div>\n",
       "<style scoped>\n",
       "    .dataframe tbody tr th:only-of-type {\n",
       "        vertical-align: middle;\n",
       "    }\n",
       "\n",
       "    .dataframe tbody tr th {\n",
       "        vertical-align: top;\n",
       "    }\n",
       "\n",
       "    .dataframe thead th {\n",
       "        text-align: right;\n",
       "    }\n",
       "</style>\n",
       "<table border=\"1\" class=\"dataframe\">\n",
       "  <thead>\n",
       "    <tr style=\"text-align: right;\">\n",
       "      <th></th>\n",
       "      <th>transactionId</th>\n",
       "      <th>visitorId</th>\n",
       "      <th>date</th>\n",
       "      <th>revenue</th>\n",
       "      <th>group</th>\n",
       "    </tr>\n",
       "  </thead>\n",
       "  <tbody>\n",
       "    <tr>\n",
       "      <th>0</th>\n",
       "      <td>3667963787</td>\n",
       "      <td>3312258926</td>\n",
       "      <td>2019-08-15</td>\n",
       "      <td>1650</td>\n",
       "      <td>B</td>\n",
       "    </tr>\n",
       "    <tr>\n",
       "      <th>1</th>\n",
       "      <td>2804400009</td>\n",
       "      <td>3642806036</td>\n",
       "      <td>2019-08-15</td>\n",
       "      <td>730</td>\n",
       "      <td>B</td>\n",
       "    </tr>\n",
       "    <tr>\n",
       "      <th>2</th>\n",
       "      <td>2961555356</td>\n",
       "      <td>4069496402</td>\n",
       "      <td>2019-08-15</td>\n",
       "      <td>400</td>\n",
       "      <td>A</td>\n",
       "    </tr>\n",
       "    <tr>\n",
       "      <th>3</th>\n",
       "      <td>3797467345</td>\n",
       "      <td>1196621759</td>\n",
       "      <td>2019-08-15</td>\n",
       "      <td>9759</td>\n",
       "      <td>B</td>\n",
       "    </tr>\n",
       "    <tr>\n",
       "      <th>4</th>\n",
       "      <td>2282983706</td>\n",
       "      <td>2322279887</td>\n",
       "      <td>2019-08-15</td>\n",
       "      <td>2308</td>\n",
       "      <td>B</td>\n",
       "    </tr>\n",
       "    <tr>\n",
       "      <th>...</th>\n",
       "      <td>...</td>\n",
       "      <td>...</td>\n",
       "      <td>...</td>\n",
       "      <td>...</td>\n",
       "      <td>...</td>\n",
       "    </tr>\n",
       "    <tr>\n",
       "      <th>1192</th>\n",
       "      <td>2662137336</td>\n",
       "      <td>3733762160</td>\n",
       "      <td>2019-08-14</td>\n",
       "      <td>6490</td>\n",
       "      <td>B</td>\n",
       "    </tr>\n",
       "    <tr>\n",
       "      <th>1193</th>\n",
       "      <td>2203539145</td>\n",
       "      <td>370388673</td>\n",
       "      <td>2019-08-14</td>\n",
       "      <td>3190</td>\n",
       "      <td>A</td>\n",
       "    </tr>\n",
       "    <tr>\n",
       "      <th>1194</th>\n",
       "      <td>1807773912</td>\n",
       "      <td>573423106</td>\n",
       "      <td>2019-08-14</td>\n",
       "      <td>10550</td>\n",
       "      <td>A</td>\n",
       "    </tr>\n",
       "    <tr>\n",
       "      <th>1195</th>\n",
       "      <td>1947021204</td>\n",
       "      <td>1614305549</td>\n",
       "      <td>2019-08-14</td>\n",
       "      <td>100</td>\n",
       "      <td>A</td>\n",
       "    </tr>\n",
       "    <tr>\n",
       "      <th>1196</th>\n",
       "      <td>3936777065</td>\n",
       "      <td>2108080724</td>\n",
       "      <td>2019-08-15</td>\n",
       "      <td>202740</td>\n",
       "      <td>B</td>\n",
       "    </tr>\n",
       "  </tbody>\n",
       "</table>\n",
       "<p>1197 rows × 5 columns</p>\n",
       "</div>"
      ],
      "text/plain": [
       "      transactionId   visitorId        date  revenue group\n",
       "0        3667963787  3312258926  2019-08-15     1650     B\n",
       "1        2804400009  3642806036  2019-08-15      730     B\n",
       "2        2961555356  4069496402  2019-08-15      400     A\n",
       "3        3797467345  1196621759  2019-08-15     9759     B\n",
       "4        2282983706  2322279887  2019-08-15     2308     B\n",
       "...             ...         ...         ...      ...   ...\n",
       "1192     2662137336  3733762160  2019-08-14     6490     B\n",
       "1193     2203539145   370388673  2019-08-14     3190     A\n",
       "1194     1807773912   573423106  2019-08-14    10550     A\n",
       "1195     1947021204  1614305549  2019-08-14      100     A\n",
       "1196     3936777065  2108080724  2019-08-15   202740     B\n",
       "\n",
       "[1197 rows x 5 columns]"
      ]
     },
     "metadata": {},
     "output_type": "display_data"
    },
    {
     "name": "stdout",
     "output_type": "stream",
     "text": [
      "<class 'pandas.core.frame.DataFrame'>\n",
      "RangeIndex: 1197 entries, 0 to 1196\n",
      "Data columns (total 5 columns):\n",
      " #   Column         Non-Null Count  Dtype \n",
      "---  ------         --------------  ----- \n",
      " 0   transactionId  1197 non-null   int64 \n",
      " 1   visitorId      1197 non-null   int64 \n",
      " 2   date           1197 non-null   object\n",
      " 3   revenue        1197 non-null   int64 \n",
      " 4   group          1197 non-null   object\n",
      "dtypes: int64(3), object(2)\n",
      "memory usage: 46.9+ KB\n"
     ]
    },
    {
     "data": {
      "text/plain": [
       "None"
      ]
     },
     "metadata": {},
     "output_type": "display_data"
    }
   ],
   "source": [
    "orders=pd.read_csv('orders.csv')\n",
    "display(orders)\n",
    "display(orders.info())"
   ]
  },
  {
   "cell_type": "code",
   "execution_count": 7,
   "metadata": {},
   "outputs": [],
   "source": [
    "orders = orders.rename({'transactionId': 'transaction_id', 'visitorId': 'visitor_id'}, axis='columns')"
   ]
  },
  {
   "cell_type": "code",
   "execution_count": 8,
   "metadata": {},
   "outputs": [
    {
     "name": "stdout",
     "output_type": "stream",
     "text": [
      "B    640\n",
      "A    557\n",
      "Name: group, dtype: int64\n"
     ]
    }
   ],
   "source": [
    "print(orders['group'].value_counts())"
   ]
  },
  {
   "cell_type": "code",
   "execution_count": 9,
   "metadata": {},
   "outputs": [
    {
     "name": "stdout",
     "output_type": "stream",
     "text": [
      "count                    1197\n",
      "unique                     31\n",
      "top       2019-08-05 00:00:00\n",
      "freq                       48\n",
      "first     2019-08-01 00:00:00\n",
      "last      2019-08-31 00:00:00\n",
      "Name: date, dtype: object\n"
     ]
    }
   ],
   "source": [
    "orders['date'] = orders['date'].map(lambda x: dt.datetime.strptime(x, '%Y-%m-%d'))\n",
    "print(orders['date'].describe())"
   ]
  },
  {
   "cell_type": "markdown",
   "metadata": {},
   "source": [
    "Checking for intersections in groups"
   ]
  },
  {
   "cell_type": "code",
   "execution_count": 10,
   "metadata": {},
   "outputs": [
    {
     "name": "stdout",
     "output_type": "stream",
     "text": [
      "The number of users in group A: 503\n",
      "The number of users in group B: 586\n",
      "The number of users intersected: 58\n"
     ]
    }
   ],
   "source": [
    "a = orders[orders['group']=='A']['visitor_id'].unique()\n",
    "b = orders[orders['group']=='B']['visitor_id'].unique()\n",
    "\n",
    "print('The number of users in group A:', len(a))\n",
    "print('The number of users in group B:', len(b))\n",
    "\n",
    "print('The number of users intersected:',pd.Series(list(set(a).intersection(set(b)))).count())"
   ]
  },
  {
   "cell_type": "code",
   "execution_count": 11,
   "metadata": {},
   "outputs": [
    {
     "name": "stdout",
     "output_type": "stream",
     "text": [
      "Minimum revenue in c.u.: 50\n",
      "Average revenue in c.u.: 8348.0\n",
      "Max revenue in c.u.: 1294500\n"
     ]
    }
   ],
   "source": [
    "print('Minimum revenue in c.u.:', orders['revenue'].min())\n",
    "print('Average revenue in c.u.:', round(orders['revenue'].mean(),0))\n",
    "print('Max revenue in c.u.:', orders['revenue'].max())"
   ]
  },
  {
   "cell_type": "code",
   "execution_count": 12,
   "metadata": {},
   "outputs": [
    {
     "data": {
      "image/png": "[encoded data removed]",
      "text/plain": [
       "<Figure size 576x864 with 1 Axes>"
      ]
     },
     "metadata": {
      "needs_background": "light"
     },
     "output_type": "display_data"
    }
   ],
   "source": [
    "fig = plt.figure(figsize =(8, 12))\n",
    "plt.boxplot(orders['revenue'], notch=True)\n",
    "plt.title('Boxplot of revenue in August 2019',fontsize=16)\n",
    "plt.show()"
   ]
  },
  {
   "cell_type": "markdown",
   "metadata": {},
   "source": [
    "The distribution of revenue contains abnormally high (for this dataset) values on August 19, which strongly affects its average."
   ]
  },
  {
   "cell_type": "code",
   "execution_count": 13,
   "metadata": {},
   "outputs": [
    {
     "name": "stdout",
     "output_type": "stream",
     "text": [
      "<class 'pandas.core.frame.DataFrame'>\n",
      "RangeIndex: 1197 entries, 0 to 1196\n",
      "Data columns (total 5 columns):\n",
      " #   Column          Non-Null Count  Dtype         \n",
      "---  ------          --------------  -----         \n",
      " 0   transaction_id  1197 non-null   int64         \n",
      " 1   visitor_id      1197 non-null   int64         \n",
      " 2   date            1197 non-null   datetime64[ns]\n",
      " 3   revenue         1197 non-null   int64         \n",
      " 4   group           1197 non-null   object        \n",
      "dtypes: datetime64[ns](1), int64(3), object(1)\n",
      "memory usage: 46.9+ KB\n"
     ]
    },
    {
     "data": {
      "text/plain": [
       "None"
      ]
     },
     "metadata": {},
     "output_type": "display_data"
    }
   ],
   "source": [
    "display(orders.info())"
   ]
  },
  {
   "cell_type": "markdown",
   "metadata": {},
   "source": [
    "## 7. Data Description: Orders\n",
    "\n",
    "**the table has 1197 orders and 5 variables**\n",
    "\n",
    "transaction_id — order ID, type int64;\n",
    "\n",
    "visitor_id — ID of the user that made the order, type int64;\n",
    "\n",
    "date — date when the order was made, datetime64 type;\n",
    "\n",
    "revenue — order revenue, type int64;\n",
    "\n",
    "group — the A/B test group, object type.\n",
    "\n",
    "*The data does not contain gaps or duplicates. Variable types do not need to be changed. Variable names were lowercased.*\n",
    "\n",
    "*The dataset contains 58 intersecting users, this is 10% of the users of each group, in real life the test should be stopped and the developers should figure out what is wrong with the algorithm that assigns users to groups. Since we cannot stop the test in this project at this stage and we cannot delete 10% of the users of each group, we will leave everything as it is.*"
   ]
  },
  {
   "cell_type": "markdown",
   "metadata": {},
   "source": [
    "## 8. Data Preprocessing: Visitors"
   ]
  },
  {
   "cell_type": "code",
   "execution_count": 14,
   "metadata": {},
   "outputs": [
    {
     "data": {
      "text/html": [
       "<div>\n",
       "<style scoped>\n",
       "    .dataframe tbody tr th:only-of-type {\n",
       "        vertical-align: middle;\n",
       "    }\n",
       "\n",
       "    .dataframe tbody tr th {\n",
       "        vertical-align: top;\n",
       "    }\n",
       "\n",
       "    .dataframe thead th {\n",
       "        text-align: right;\n",
       "    }\n",
       "</style>\n",
       "<table border=\"1\" class=\"dataframe\">\n",
       "  <thead>\n",
       "    <tr style=\"text-align: right;\">\n",
       "      <th></th>\n",
       "      <th>date</th>\n",
       "      <th>group</th>\n",
       "      <th>visitors</th>\n",
       "    </tr>\n",
       "  </thead>\n",
       "  <tbody>\n",
       "    <tr>\n",
       "      <th>0</th>\n",
       "      <td>2019-08-01</td>\n",
       "      <td>A</td>\n",
       "      <td>719</td>\n",
       "    </tr>\n",
       "    <tr>\n",
       "      <th>1</th>\n",
       "      <td>2019-08-02</td>\n",
       "      <td>A</td>\n",
       "      <td>619</td>\n",
       "    </tr>\n",
       "    <tr>\n",
       "      <th>2</th>\n",
       "      <td>2019-08-03</td>\n",
       "      <td>A</td>\n",
       "      <td>507</td>\n",
       "    </tr>\n",
       "    <tr>\n",
       "      <th>3</th>\n",
       "      <td>2019-08-04</td>\n",
       "      <td>A</td>\n",
       "      <td>717</td>\n",
       "    </tr>\n",
       "    <tr>\n",
       "      <th>4</th>\n",
       "      <td>2019-08-05</td>\n",
       "      <td>A</td>\n",
       "      <td>756</td>\n",
       "    </tr>\n",
       "    <tr>\n",
       "      <th>...</th>\n",
       "      <td>...</td>\n",
       "      <td>...</td>\n",
       "      <td>...</td>\n",
       "    </tr>\n",
       "    <tr>\n",
       "      <th>57</th>\n",
       "      <td>2019-08-27</td>\n",
       "      <td>B</td>\n",
       "      <td>720</td>\n",
       "    </tr>\n",
       "    <tr>\n",
       "      <th>58</th>\n",
       "      <td>2019-08-28</td>\n",
       "      <td>B</td>\n",
       "      <td>654</td>\n",
       "    </tr>\n",
       "    <tr>\n",
       "      <th>59</th>\n",
       "      <td>2019-08-29</td>\n",
       "      <td>B</td>\n",
       "      <td>531</td>\n",
       "    </tr>\n",
       "    <tr>\n",
       "      <th>60</th>\n",
       "      <td>2019-08-30</td>\n",
       "      <td>B</td>\n",
       "      <td>490</td>\n",
       "    </tr>\n",
       "    <tr>\n",
       "      <th>61</th>\n",
       "      <td>2019-08-31</td>\n",
       "      <td>B</td>\n",
       "      <td>718</td>\n",
       "    </tr>\n",
       "  </tbody>\n",
       "</table>\n",
       "<p>62 rows × 3 columns</p>\n",
       "</div>"
      ],
      "text/plain": [
       "          date group  visitors\n",
       "0   2019-08-01     A       719\n",
       "1   2019-08-02     A       619\n",
       "2   2019-08-03     A       507\n",
       "3   2019-08-04     A       717\n",
       "4   2019-08-05     A       756\n",
       "..         ...   ...       ...\n",
       "57  2019-08-27     B       720\n",
       "58  2019-08-28     B       654\n",
       "59  2019-08-29     B       531\n",
       "60  2019-08-30     B       490\n",
       "61  2019-08-31     B       718\n",
       "\n",
       "[62 rows x 3 columns]"
      ]
     },
     "metadata": {},
     "output_type": "display_data"
    },
    {
     "name": "stdout",
     "output_type": "stream",
     "text": [
      "<class 'pandas.core.frame.DataFrame'>\n",
      "RangeIndex: 62 entries, 0 to 61\n",
      "Data columns (total 3 columns):\n",
      " #   Column    Non-Null Count  Dtype \n",
      "---  ------    --------------  ----- \n",
      " 0   date      62 non-null     object\n",
      " 1   group     62 non-null     object\n",
      " 2   visitors  62 non-null     int64 \n",
      "dtypes: int64(1), object(2)\n",
      "memory usage: 1.6+ KB\n"
     ]
    },
    {
     "data": {
      "text/plain": [
       "None"
      ]
     },
     "metadata": {},
     "output_type": "display_data"
    }
   ],
   "source": [
    "visitors=pd.read_csv('visitors.csv')\n",
    "display(visitors)\n",
    "display(visitors.info())"
   ]
  },
  {
   "cell_type": "code",
   "execution_count": 15,
   "metadata": {},
   "outputs": [
    {
     "name": "stdout",
     "output_type": "stream",
     "text": [
      "B    31\n",
      "A    31\n",
      "Name: group, dtype: int64\n"
     ]
    }
   ],
   "source": [
    "print(visitors['group'].value_counts())"
   ]
  },
  {
   "cell_type": "code",
   "execution_count": 16,
   "metadata": {},
   "outputs": [
    {
     "name": "stdout",
     "output_type": "stream",
     "text": [
      "count     62.000000\n",
      "mean     607.290323\n",
      "std      114.400560\n",
      "min      361.000000\n",
      "25%      534.000000\n",
      "50%      624.500000\n",
      "75%      710.500000\n",
      "max      770.000000\n",
      "Name: visitors, dtype: float64\n"
     ]
    }
   ],
   "source": [
    "print(visitors['visitors'].describe())"
   ]
  },
  {
   "cell_type": "code",
   "execution_count": 17,
   "metadata": {},
   "outputs": [
    {
     "name": "stdout",
     "output_type": "stream",
     "text": [
      "count                      62\n",
      "unique                     31\n",
      "top       2019-08-27 00:00:00\n",
      "freq                        2\n",
      "first     2019-08-01 00:00:00\n",
      "last      2019-08-31 00:00:00\n",
      "Name: date, dtype: object\n"
     ]
    }
   ],
   "source": [
    "visitors['date'] = visitors['date'].map(lambda x: dt.datetime.strptime(x, '%Y-%m-%d'))\n",
    "print(visitors['date'].describe())"
   ]
  },
  {
   "cell_type": "code",
   "execution_count": 18,
   "metadata": {},
   "outputs": [
    {
     "data": {
      "image/png": "[encoded data removed]",
      "text/plain": [
       "<Figure size 1152x720 with 1 Axes>"
      ]
     },
     "metadata": {
      "needs_background": "light"
     },
     "output_type": "display_data"
    }
   ],
   "source": [
    "plt.figure(figsize=(16, 10))\n",
    "sns.lineplot(x='date', y='visitors', hue='group', data=visitors, palette=\"prism\", markers=True)\n",
    "plt.xlabel('Date',fontsize=16)\n",
    "plt.ylabel('Number of Visitors',fontsize=16)\n",
    "plt.title('Distribution of Visitors by Day by Groups in August 2019',fontsize=16)\n",
    "plt.show()"
   ]
  },
  {
   "cell_type": "markdown",
   "metadata": {},
   "source": [
    "## 9. Data Description: Visitors\n",
    "\n",
    "**62 rows, 3 variables**\n",
    "\n",
    "date - datetime64 type;\n",
    "\n",
    "group — A/B test group, object type;\n",
    "\n",
    "visitors — number of visitors, type int64\n",
    "\n",
    "*Data does not contain gaps, outliers or duplicates. Variable types and names do not need to be changed.*\n",
    "\n",
    "The distribution of visitors seems fine, it has in average 607 users per group per day, a minimum of 361 users per group per day, and a maximum of 770 users per group per day. The distribution does not contain abnormal values"
   ]
  },
  {
   "cell_type": "markdown",
   "metadata": {},
   "source": [
    "## 10. A/B Test Results Analysis"
   ]
  },
  {
   "cell_type": "markdown",
   "metadata": {},
   "source": [
    "### 10.1 Cumulative revenue by groups"
   ]
  },
  {
   "cell_type": "code",
   "execution_count": 19,
   "metadata": {},
   "outputs": [
    {
     "name": "stdout",
     "output_type": "stream",
     "text": [
      "          date group  orders  buyers  revenue\n",
      "55  2019-08-01     A      24      20   148579\n",
      "66  2019-08-01     B      21      20   101217\n",
      "175 2019-08-02     A      44      38   242401\n",
      "173 2019-08-02     B      45      43   266748\n",
      "291 2019-08-03     A      68      62   354874\n",
      "..         ...   ...     ...     ...      ...\n",
      "496 2019-08-29     B     596     544  5559398\n",
      "730 2019-08-30     A     545     493  4022970\n",
      "690 2019-08-30     B     620     567  5774631\n",
      "958 2019-08-31     A     557     503  4084803\n",
      "930 2019-08-31     B     640     586  5907760\n",
      "\n",
      "[62 rows x 5 columns]\n"
     ]
    }
   ],
   "source": [
    "#deleting duplicates\n",
    "datesGroups = orders[['date','group']].drop_duplicates() \n",
    "\n",
    "#grouping revenue by day\n",
    "ordersAggregated = datesGroups.apply(lambda x: orders[np.logical_and(orders['date'] <= x['date'], orders['group'] == x['group'])]\\\n",
    ".agg({'date' : 'max', 'group' : 'max', 'transaction_id' : pd.Series.nunique, 'visitor_id' : pd.Series.nunique, 'revenue' : 'sum'}), axis=1).sort_values(by=['date','group'])\n",
    "\n",
    "#calculating cumulative revenue by day\n",
    "ordersAggregated = datesGroups.apply(lambda x: orders[np.logical_and(orders['date'] <= x['date'], orders['group'] == x['group'])].agg({'date' : 'max', 'group' : 'max', 'transaction_id' : pd.Series.nunique, 'visitor_id' : pd.Series.nunique, 'revenue' : 'sum'}), axis=1).sort_values(by=['date','group'])\n",
    "\n",
    "#renaming the columns\n",
    "ordersAggregated.columns = ['date', 'group', 'orders', 'buyers', 'revenue']\n",
    "\n",
    "print(ordersAggregated)"
   ]
  },
  {
   "cell_type": "code",
   "execution_count": 20,
   "metadata": {},
   "outputs": [
    {
     "data": {
      "image/png": "[encoded data removed]",
      "text/plain": [
       "<Figure size 432x288 with 1 Axes>"
      ]
     },
     "metadata": {
      "needs_background": "light"
     },
     "output_type": "display_data"
    }
   ],
   "source": [
    "#dataframe with cumulative number of orders and cumulative revenue by day in group A\n",
    "cumulativeRevenueA = ordersAggregated[ordersAggregated['group']=='A'][['date','revenue', 'orders']]\n",
    "\n",
    "#dataframe with cumulative number of orders and cumulative revenue by day in group B\n",
    "cumulativeRevenueB = ordersAggregated[ordersAggregated['group']=='B'][['date','revenue', 'orders']]\n",
    "\n",
    "#revenue plot for group A\n",
    "plt.plot(cumulativeRevenueA['date'], cumulativeRevenueA['revenue'], label='A')\n",
    "\n",
    "#revenue plot for group B\n",
    "plt.plot(cumulativeRevenueB['date'], cumulativeRevenueB['revenue'], label='B')\n",
    "\n",
    "plt.rcParams[\"figure.figsize\"] = (20,10)\n",
    "plt.xlabel('Date',fontsize=14)\n",
    "plt.ylabel('Revenue, c.u.',fontsize=14)\n",
    "plt.title('Cumulative Revenue plot for groups A and B in August 2019',fontsize=14)\n",
    "plt.legend()\n",
    "plt.show()"
   ]
  },
  {
   "cell_type": "markdown",
   "metadata": {},
   "source": [
    "Groups A and B have approximately the same cumulative revenue from August 1 to August 5, 2019 and August 14, 2019.\n",
    "\n",
    "Ffrom August 5 till August 19 (except August 14, 2019), group B overtakes group A in terms of cumulative revenue.\n",
    "\n",
    "On August 19-20, 2019, there is a jump in revenue in group B, group A does not have any chances to close the gap (20,000 c.u.) until the end of the observation period."
   ]
  },
  {
   "cell_type": "markdown",
   "metadata": {},
   "source": [
    "### 10.2 Cumulative revenue per order by groups"
   ]
  },
  {
   "cell_type": "code",
   "execution_count": 21,
   "metadata": {},
   "outputs": [
    {
     "data": {
      "image/png": "[encoded data removed]",
      "text/plain": [
       "<Figure size 1440x720 with 1 Axes>"
      ]
     },
     "metadata": {
      "needs_background": "light"
     },
     "output_type": "display_data"
    }
   ],
   "source": [
    "plt.plot(cumulativeRevenueA['date'], cumulativeRevenueA['revenue']/cumulativeRevenueA['orders'], label='A')\n",
    "plt.plot(cumulativeRevenueB['date'], cumulativeRevenueB['revenue']/cumulativeRevenueB['orders'], label='B')\n",
    "\n",
    "plt.rcParams[\"figure.figsize\"] = (15,10)\n",
    "plt.xlabel('Data',fontsize=14)\n",
    "plt.ylabel('Revenue per order, c.u.',fontsize=14)\n",
    "plt.title('Cumulative Revenue per Order plot for groups A and B in August 2019',fontsize=14)\n",
    "plt.legend()\n",
    "plt.show()"
   ]
  },
  {
   "cell_type": "markdown",
   "metadata": {},
   "source": [
    "The cumulative average order revenue of group A is greater than the cumulative average order revenue of group B on August 1 and from August 11 to 15. The rest of the time, the cumulative average order revenue of group B is much higher than of group A.\n",
    "\n",
    "On August 18-19, group B has abnormally huge orders (a sharp spike on the chart).\n",
    "\n",
    "After September 19, the cumulative average order revenue goes up slightly for group A and falls after a sharp surge for group B. "
   ]
  },
  {
   "cell_type": "markdown",
   "metadata": {},
   "source": [
    "### 10.3 Relative change in the cumulative average order revenue of group B to group A."
   ]
  },
  {
   "cell_type": "code",
   "execution_count": 22,
   "metadata": {},
   "outputs": [
    {
     "data": {
      "image/png": "[encoded data removed]",
      "text/plain": [
       "<Figure size 1080x720 with 1 Axes>"
      ]
     },
     "metadata": {
      "needs_background": "light"
     },
     "output_type": "display_data"
    }
   ],
   "source": [
    "#merging the dataframes\n",
    "mergedCumulativeRevenue = cumulativeRevenueA.merge(cumulativeRevenueB, left_on='date', right_on='date', how='left', suffixes=['A', 'B'])\n",
    "\n",
    "#building comparison\n",
    "plt.plot(mergedCumulativeRevenue['date'], (mergedCumulativeRevenue['revenueB']/mergedCumulativeRevenue['ordersB'])/(mergedCumulativeRevenue['revenueA']/mergedCumulativeRevenue['ordersA'])-1)\n",
    "\n",
    "#building a graph\n",
    "plt.axhline(y=0, color='black', linestyle='--') \n",
    "\n",
    "plt.rcParams[\"figure.figsize\"] = (15,10)\n",
    "plt.xlabel('Date',fontsize=14)\n",
    "plt.ylabel('Relative Change',fontsize=14)\n",
    "plt.title('Relative change in the cumulative average order revenue of group B to group A in August 2019',fontsize=14)\n",
    "plt.show()"
   ]
  },
  {
   "cell_type": "markdown",
   "metadata": {},
   "source": [
    "Group B catches up with group A in terms of the cumulative average order revenue on August 2 and is ahead of it during the entire observation period, except for the period from August 11 to 15.\n",
    "\n",
    "At several points, the graph of the difference between the segments jumps sharply. Large orders and emissions are definitely hidden here! We'll find them later."
   ]
  },
  {
   "cell_type": "markdown",
   "metadata": {},
   "source": [
    "### 10.4 Cumulative conversion per groups"
   ]
  },
  {
   "cell_type": "code",
   "execution_count": 23,
   "metadata": {},
   "outputs": [],
   "source": [
    "#grouping visitors by day\n",
    "visitorsAggregated = datesGroups.apply(\n",
    "    lambda x: visitors[\n",
    "        np.logical_and(\n",
    "            visitors['date'] <= x['date'], visitors['group'] == x['group']\n",
    "        )\n",
    "    ].agg({'date': 'max', 'group': 'max', 'visitors': 'sum'}),\n",
    "    axis=1,\n",
    ").sort_values(by=['date', 'group'])\n",
    "\n",
    "#merging the visitors with buyers \n",
    "cumulativeData = ordersAggregated.merge(\n",
    "    visitorsAggregated, left_on=['date', 'group'], right_on=['date', 'group']\n",
    ")\n",
    "\n",
    "#renaming the columns\n",
    "cumulativeData.columns = [\n",
    "    'date',\n",
    "    'group',\n",
    "    'orders',\n",
    "    'buyers',\n",
    "    'revenue',\n",
    "    'visitors',\n",
    "]\n",
    "\n",
    "#calculating cumulative conversion\n",
    "cumulativeData['conversion'] = cumulativeData['orders']/cumulativeData['visitors']"
   ]
  },
  {
   "cell_type": "code",
   "execution_count": 28,
   "metadata": {},
   "outputs": [
    {
     "data": {
      "image/png": "[encoded data removed]",
      "text/plain": [
       "<Figure size 1080x720 with 1 Axes>"
      ]
     },
     "metadata": {
      "needs_background": "light"
     },
     "output_type": "display_data"
    }
   ],
   "source": [
    "#dataframe for group A\n",
    "cumulativeDataA = cumulativeData[cumulativeData['group']=='A']\n",
    "\n",
    "#dataframe for group B\n",
    "cumulativeDataB = cumulativeData[cumulativeData['group']=='B']\n",
    "\n",
    "#building the graph\n",
    "plt.plot(cumulativeDataA['date'], cumulativeDataA['conversion'], label='A')\n",
    "plt.plot(cumulativeDataB['date'], cumulativeDataB['conversion'], label='B')\n",
    "plt.legend()\n",
    "\n",
    "plt.rcParams[\"figure.figsize\"] = (15,10)\n",
    "plt.xlabel('Date',fontsize=14)\n",
    "plt.ylabel('Conversion',fontsize=14)\n",
    "plt.title('Cumulative conversion per groups in August 2019',fontsize=14)\n",
    "plt.legend()\n",
    "plt.show()"
   ]
  },
  {
   "cell_type": "markdown",
   "metadata": {},
   "source": [
    "Groups fluctuated around the same value until August 6, but then group B's conversion went ahead."
   ]
  },
  {
   "cell_type": "markdown",
   "metadata": {},
   "source": [
    "### 10.5 Relative change in cumulative conversion of group B to group A"
   ]
  },
  {
   "cell_type": "code",
   "execution_count": 30,
   "metadata": {},
   "outputs": [
    {
     "data": {
      "image/png": "[encoded data removed]",
      "text/plain": [
       "<Figure size 1080x720 with 1 Axes>"
      ]
     },
     "metadata": {
      "needs_background": "light"
     },
     "output_type": "display_data"
    }
   ],
   "source": [
    "mergedCumulativeConversions = cumulativeDataA[['date','conversion']].merge(cumulativeDataB[['date','conversion']], left_on='date', right_on='date', how='left', suffixes=['A', 'B'])\n",
    "\n",
    "plt.plot(mergedCumulativeConversions['date'], mergedCumulativeConversions['conversionB']/mergedCumulativeConversions['conversionA']-1)\n",
    "\n",
    "plt.axhline(y=0, color='black', linestyle='--')\n",
    "plt.axhline(y=0.2, color='grey', linestyle='--')\n",
    "\n",
    "plt.rcParams[\"figure.figsize\"] = (15,10)\n",
    "plt.xlabel('Date',fontsize=14)\n",
    "plt.ylabel('Relative change',fontsize=14)\n",
    "plt.title('Relative change in cumulative conversion of group B to group A in August 2019',fontsize=14)\n",
    "plt.show()"
   ]
  },
  {
   "cell_type": "markdown",
   "metadata": {},
   "source": [
    "Groups fluctuated around the same value until August 6, but then group B's conversion went ahead."
   ]
  },
  {
   "cell_type": "markdown",
   "metadata": {},
   "source": [
    "### 10.6 Scatter plot of the number of orders per user"
   ]
  },
  {
   "cell_type": "code",
   "execution_count": 32,
   "metadata": {},
   "outputs": [
    {
     "data": {
      "image/png": "[encoded data removed]",
      "text/plain": [
       "<Figure size 1080x720 with 1 Axes>"
      ]
     },
     "metadata": {
      "needs_background": "light"
     },
     "output_type": "display_data"
    }
   ],
   "source": [
    "ordersByUsers = (\n",
    "    orders.drop(['group', 'revenue', 'date'], axis=1)\n",
    "    .groupby('visitor_id', as_index=False)\n",
    "    .agg({'transaction_id': pd.Series.nunique})\n",
    ")\n",
    "ordersByUsers.columns = ['visitor_id', 'orders']\n",
    "\n",
    "x_values = pd.Series(range(0,len(ordersByUsers['orders'])))\n",
    "plt.scatter(x_values, ordersByUsers['orders']) \n",
    "\n",
    "plt.rcParams[\"figure.figsize\"] = (15,10)\n",
    "plt.xlabel('Number of orders',fontsize=14)\n",
    "plt.ylabel('Number of users',fontsize=14)\n",
    "plt.title('Orders per users in August 2019',fontsize=14)\n",
    "plt.show()"
   ]
  },
  {
   "cell_type": "markdown",
   "metadata": {},
   "source": [
    "The graph shows that there are outliers in the number of orders per user. Let's find the 95th and 99th percentiles to detect otliers."
   ]
  },
  {
   "cell_type": "markdown",
   "metadata": {},
   "source": [
    "### 10.7 Calculate the 95th and 99th percentiles of orders per user"
   ]
  },
  {
   "cell_type": "code",
   "execution_count": 37,
   "metadata": {},
   "outputs": [
    {
     "data": {
      "text/plain": [
       "array([2., 4.])"
      ]
     },
     "execution_count": 37,
     "metadata": {},
     "output_type": "execute_result"
    }
   ],
   "source": [
    "np.percentile(ordersByUsers['orders'], [95, 99])"
   ]
  },
  {
   "cell_type": "markdown",
   "metadata": {},
   "source": [
    "No more than 5% of buyers make more than 4 orders and no more than 1% - more than 2."
   ]
  },
  {
   "cell_type": "markdown",
   "metadata": {},
   "source": [
    "### 10.8 Plot a scatter plot of orders revenues"
   ]
  },
  {
   "cell_type": "code",
   "execution_count": 34,
   "metadata": {},
   "outputs": [
    {
     "data": {
      "image/png": "[encoded data removed]",
      "text/plain": [
       "<Figure size 1080x720 with 1 Axes>"
      ]
     },
     "metadata": {
      "needs_background": "light"
     },
     "output_type": "display_data"
    }
   ],
   "source": [
    "x_values = pd.Series(range(0, len(orders['revenue'])))\n",
    "_values = pd.Series(range(0,len(orders['revenue'])))\n",
    "plt.scatter(x_values, orders['revenue']) \n",
    "\n",
    "plt.rcParams[\"figure.figsize\"] = (15,10)\n",
    "plt.xlabel('Number of orders',fontsize=14)\n",
    "plt.ylabel('Orders revenues, c.u.',fontsize=14)\n",
    "plt.title('Orders revenues in August 2019',fontsize=14)\n",
    "plt.show()"
   ]
  },
  {
   "cell_type": "markdown",
   "metadata": {},
   "source": [
    "There are two abnormally expensive orders, one costs more than 1200 thousand c.u., one is about 200 thousand c.u. Let's find the 95th and 99th percentiles to detect otliers."
   ]
  },
  {
   "cell_type": "markdown",
   "metadata": {},
   "source": [
    "### 10.9 Calculate the 95th and 99th percentiles of revenues"
   ]
  },
  {
   "cell_type": "code",
   "execution_count": 36,
   "metadata": {},
   "outputs": [
    {
     "data": {
      "text/plain": [
       "array([28000. , 58233.2])"
      ]
     },
     "execution_count": 36,
     "metadata": {},
     "output_type": "execute_result"
    }
   ],
   "source": [
    "np.percentile(orders['revenue'], [95, 99])"
   ]
  },
  {
   "cell_type": "markdown",
   "metadata": {},
   "source": [
    "No more than 5% of orders cost more than 28 thousand c.u. and not more than 1% over 58233 thousand c.u."
   ]
  },
  {
   "cell_type": "markdown",
   "metadata": {},
   "source": [
    "### 10.10 Calculate the statistical significance of differences in conversion between groups on raw data\n",
    "\n",
    "*Null hypothesis:* Conversions in groups A and B in raw data are the same<br>\n",
    "*Alternative hypothesis:* Conversions in groups A and B according in raw data are different.\n",
    "\n",
    "The hypothesis is tested by the Mann-Whitney test stats.mannwhitneyu. If the pvalue of the method result is less than 0.05 -> we reject the null hypothesis, the conversion between groups are different."
   ]
  },
  {
   "cell_type": "code",
   "execution_count": 38,
   "metadata": {},
   "outputs": [
    {
     "name": "stdout",
     "output_type": "stream",
     "text": [
      "p-value = 0.00840\n",
      "Relative difference in conversion 0.138\n"
     ]
    }
   ],
   "source": [
    "#Calculating the cumulative number of orders per day for group A and group B\n",
    "\n",
    "visitorsADaily = visitors[visitors['group'] == 'A'][['date', 'visitors']]\n",
    "visitorsADaily.columns = ['date', 'visitorsPerDateA']\n",
    "\n",
    "visitorsACummulative = visitorsADaily.apply(\n",
    "    lambda x: visitorsADaily[visitorsADaily['date'] <= x['date']].agg(\n",
    "        {'date': 'max', 'visitorsPerDateA': 'sum'}\n",
    "    ),\n",
    "    axis=1,\n",
    ")\n",
    "visitorsACummulative.columns = ['date', 'visitorsCummulativeA']\n",
    "\n",
    "visitorsBDaily = visitors[visitors['group'] == 'B'][['date', 'visitors']]\n",
    "visitorsBDaily.columns = ['date', 'visitorsPerDateB']\n",
    "\n",
    "visitorsBCummulative = visitorsBDaily.apply(\n",
    "    lambda x: visitorsBDaily[visitorsBDaily['date'] <= x['date']].agg(\n",
    "        {'date': 'max', 'visitorsPerDateB': 'sum'}\n",
    "    ),\n",
    "    axis=1,\n",
    ")\n",
    "visitorsBCummulative.columns = ['date', 'visitorsCummulativeB']\n",
    "\n",
    "ordersADaily = (\n",
    "    orders[orders['group'] == 'A'][['date', 'transaction_id', 'visitor_id', 'revenue']]\n",
    "    .groupby('date', as_index=False)\n",
    "    .agg({'transaction_id': pd.Series.nunique, 'revenue': 'sum'})\n",
    ")\n",
    "ordersADaily.columns = ['date', 'ordersPerDateA', 'revenuePerDateA']\n",
    "\n",
    "ordersACummulative = ordersADaily.apply(\n",
    "    lambda x: ordersADaily[ordersADaily['date'] <= x['date']].agg(\n",
    "        {'date': 'max', 'ordersPerDateA': 'sum', 'revenuePerDateA': 'sum'}\n",
    "    ),\n",
    "    axis=1,\n",
    ").sort_values(by=['date'])\n",
    "ordersACummulative.columns = [\n",
    "    'date',\n",
    "    'ordersCummulativeA',\n",
    "    'revenueCummulativeA',\n",
    "]\n",
    "\n",
    "ordersBDaily = (\n",
    "    orders[orders['group'] == 'B'][['date', 'transaction_id', 'visitor_id', 'revenue']]\n",
    "    .groupby('date', as_index=False)\n",
    "    .agg({'transaction_id': pd.Series.nunique, 'revenue': 'sum'})\n",
    ")\n",
    "ordersBDaily.columns = ['date', 'ordersPerDateB', 'revenuePerDateB']\n",
    "\n",
    "ordersBCummulative = ordersBDaily.apply(\n",
    "    lambda x: ordersBDaily[ordersBDaily['date'] <= x['date']].agg(\n",
    "        {'date': 'max', 'ordersPerDateB': 'sum', 'revenuePerDateB': 'sum'}\n",
    "    ),\n",
    "    axis=1,\n",
    ").sort_values(by=['date'])\n",
    "ordersBCummulative.columns = [\n",
    "    'date',\n",
    "    'ordersCummulativeB',\n",
    "    'revenueCummulativeB',\n",
    "]\n",
    "\n",
    "#Combining ordersADaily and ordersBDaily\n",
    "\n",
    "data = (\n",
    "    ordersADaily.merge(\n",
    "        ordersBDaily, left_on='date', right_on='date', how='left'\n",
    "    )\n",
    "    .merge(ordersACummulative, left_on='date', right_on='date', how='left')\n",
    "    .merge(ordersBCummulative, left_on='date', right_on='date', how='left')\n",
    "    .merge(visitorsADaily, left_on='date', right_on='date', how='left')\n",
    "    .merge(visitorsBDaily, left_on='date', right_on='date', how='left')\n",
    "    .merge(visitorsACummulative, left_on='date', right_on='date', how='left')\n",
    "    .merge(visitorsBCummulative, left_on='date', right_on='date', how='left')\n",
    ")\n",
    "\n",
    "#Creating ordersByUsersA and ordersByUsersB variables with columns ['visitor_id', 'orders']. They indicate the number of completed orders.\n",
    "\n",
    "ordersByUsersA = (\n",
    "    orders[orders['group'] == 'A']\n",
    "    .groupby('visitor_id', as_index=False)\n",
    "    .agg({'transaction_id': pd.Series.nunique})\n",
    ")\n",
    "ordersByUsersA.columns = ['visitor_id', 'orders']\n",
    "\n",
    "ordersByUsersB = (\n",
    "    orders[orders['group'] == 'B']\n",
    "    .groupby('visitor_id', as_index=False)\n",
    "    .agg({'transaction_id': pd.Series.nunique})\n",
    ")\n",
    "ordersByUsersB.columns = ['visitor_id', 'orders'] \n",
    "\n",
    "#Declaring variables sampleA and sampleB, in which users from different groups will correspond to the number of orders.\n",
    "#Those who did not order anything will have zeros. This is necessary to prepare the samples for Mann-Whitney test.\n",
    "\n",
    "sampleA = pd.concat([ordersByUsersA['orders'],pd.Series(0, index=np.arange(data['visitorsPerDateA'].sum() - len(ordersByUsersA['orders'])), name='orders')],axis=0)\n",
    "\n",
    "sampleB = pd.concat([ordersByUsersB['orders'],pd.Series(0, index=np.arange(data['visitorsPerDateB'].sum() - len(ordersByUsersB['orders'])), name='orders')],axis=0)\n",
    "\n",
    "sampleA = pd.concat(\n",
    "    [\n",
    "        ordersByUsersA['orders'],\n",
    "        pd.Series(\n",
    "            0,\n",
    "            index=np.arange(\n",
    "                data['visitorsPerDateA'].sum() - len(ordersByUsersA['orders'])\n",
    "            ),\n",
    "            name='orders',\n",
    "        ),\n",
    "    ],\n",
    "    axis=0,\n",
    ")\n",
    "\n",
    "sampleB = pd.concat(\n",
    "    [\n",
    "        ordersByUsersB['orders'],\n",
    "        pd.Series(\n",
    "            0,\n",
    "            index=np.arange(\n",
    "                data['visitorsPerDateB'].sum() - len(ordersByUsersB['orders'])\n",
    "            ),\n",
    "            name='orders',\n",
    "        ),\n",
    "    ],\n",
    "    axis=0,\n",
    ")\n",
    "\n",
    "print('p-value =',\"{0:.5f}\".format(st.mannwhitneyu(sampleA, sampleB)[1]))\n",
    "\n",
    "print('Relative difference in conversion', \"{0:.3f}\".format((data['ordersPerDateB'].sum()/data['visitorsPerDateB'].sum())/\n",
    "                       (data['ordersPerDateA'].sum()/data['visitorsPerDateA'].sum())-1))"
   ]
  },
  {
   "cell_type": "markdown",
   "metadata": {},
   "source": [
    "The first number — p-value = 0.00840 is less than 0.05. \n",
    "\n",
    "Hence, we reject the null hypothesis. There is a difference in conversion between groups.\n",
    "\n",
    "In raw data, group B greatly outperforms group A in terms of conversion. \n",
    "\n",
    "Group B's relative conversion gain is 13.8%."
   ]
  },
  {
   "cell_type": "markdown",
   "metadata": {},
   "source": [
    "### 10.11 Calculate the statistical significance of the differences in the average order revenue between groups on raw data\n",
    "\n",
    "*Null hypothesis:* The average order revenue in groups A and B are the same in raw data<br>\n",
    "*Alternative hypothesis:* The average order revenue in groups A and B are different in raw data.\n",
    "\n",
    "The hypothesis is tested by the Mann-Whitney test stats.mannwhitneyu. If the pvalue of the method result is less than 0.05 -> we reject the null hypothesis."
   ]
  },
  {
   "cell_type": "code",
   "execution_count": 41,
   "metadata": {},
   "outputs": [
    {
     "name": "stdout",
     "output_type": "stream",
     "text": [
      "p-value = 0.365\n",
      "Relative difference in the average order revenue 0.259\n"
     ]
    }
   ],
   "source": [
    "print('p-value =','{0:.3f}'.format(st.mannwhitneyu(orders[orders['group']=='A']['revenue'], orders[orders['group']=='B']['revenue'])[1]))\n",
    "print('Relative difference in the average order revenue','{0:.3f}'.format(orders[orders['group']=='B']['revenue'].mean()/orders[orders['group']=='A']['revenue'].mean()-1))"
   ]
  },
  {
   "cell_type": "markdown",
   "metadata": {},
   "source": [
    "P-value 0.365 is significantly greater than 0.05. This means that there are no reasons to reject the null hypothesis. The average order revenue in groups A and B are the same in raw data."
   ]
  },
  {
   "cell_type": "markdown",
   "metadata": {},
   "source": [
    "### 10.12 Calculate the statistical significance of differences in conversion between groups on cleaned data\n",
    "\n",
    "*Null hypothesis:* Conversions in groups A and B in cleaned data are the same<br>\n",
    "*Alternative hypothesis:* Conversions in groups A and B according in cleaned data are different.\n",
    "\n",
    "The hypothesis is tested by the Mann-Whitney test stats.mannwhitneyu. If the pvalue of the method result is less than 0.05 -> we reject the null hypothesis, the conversion between groups are different."
   ]
  },
  {
   "cell_type": "code",
   "execution_count": 45,
   "metadata": {},
   "outputs": [
    {
     "name": "stdout",
     "output_type": "stream",
     "text": [
      "(74,)\n"
     ]
    }
   ],
   "source": [
    "#Removing 5% of customers with the largest number of orders (>2) and 5% of the most expensive orders (>28000 c.u.) \n",
    "#Aand recalculating the conversion and order revenue.\n",
    "\n",
    "#Finding all users with abnormal number of orders\n",
    "usersWithManyOrders = pd.concat(\n",
    "    [\n",
    "        ordersByUsersA[ordersByUsersA['orders'] > 2]['visitor_id'],\n",
    "        ordersByUsersB[ordersByUsersB['orders'] > 2]['visitor_id'],\n",
    "    ],\n",
    "    axis=0,\n",
    ")\n",
    "\n",
    "#Finding all clients with abnormal orders\n",
    "usersWithExpensiveOrders = orders[orders['revenue'] > 28000]['visitor_id']\n",
    "abnormalUsers = (\n",
    "    pd.concat([usersWithManyOrders, usersWithExpensiveOrders], axis=0)\n",
    "    .drop_duplicates()\n",
    "    .sort_values()\n",
    ")\n",
    "\n",
    "print(abnormalUsers.shape)"
   ]
  },
  {
   "cell_type": "code",
   "execution_count": 46,
   "metadata": {},
   "outputs": [],
   "source": [
    "#Filtering abnormal users and orders\n",
    "\n",
    "sampleAFiltered = pd.concat(\n",
    "    [\n",
    "        ordersByUsersA[\n",
    "            np.logical_not(ordersByUsersA['visitor_id'].isin(abnormalUsers))\n",
    "        ]['orders'],\n",
    "        pd.Series(\n",
    "            0,\n",
    "            index=np.arange(\n",
    "                data['visitorsPerDateA'].sum() - len(ordersByUsersA['orders'])\n",
    "            ),\n",
    "            name='orders',\n",
    "        ),\n",
    "    ],\n",
    "    axis=0,\n",
    ")\n",
    "\n",
    "sampleBFiltered = pd.concat(\n",
    "    [\n",
    "        ordersByUsersB[\n",
    "            np.logical_not(ordersByUsersB['visitor_id'].isin(abnormalUsers))\n",
    "        ]['orders'],\n",
    "        pd.Series(\n",
    "            0,\n",
    "            index=np.arange(\n",
    "                data['visitorsPerDateB'].sum() - len(ordersByUsersB['orders'])\n",
    "            ),\n",
    "            name='orders',\n",
    "        ),\n",
    "    ],\n",
    "    axis=0,\n",
    ")"
   ]
  },
  {
   "cell_type": "code",
   "execution_count": 47,
   "metadata": {},
   "outputs": [
    {
     "name": "stdout",
     "output_type": "stream",
     "text": [
      "p-value = 0.007\n",
      "Относительное отличие в конверсии 0.173\n"
     ]
    }
   ],
   "source": [
    "#Applying the Mann-Whitney test to the obtained samples:\n",
    "print('p-value =','{0:.3f}'.format(st.mannwhitneyu(sampleAFiltered, sampleBFiltered)[1]))\n",
    "print('Относительное отличие в конверсии', '{0:.3f}'.format(sampleBFiltered.mean()/sampleAFiltered.mean()-1)) "
   ]
  },
  {
   "cell_type": "markdown",
   "metadata": {},
   "source": [
    "In order to clean data, we removed 5% of customers with the largest number of orders (>2) and 5% of the most expensive orders (>28,000 USD). The cleaned data contains 74 fewer clients than the raw data.\n",
    "\n",
    "In cleaned data, group B also greatly outperforms group A in terms of conversion.\n",
    "\n",
    "The first number — p-value = 0.007 is less than 0.05. Hence, we reject the null hypothesis. Group B's relative conversion gain is 17.3%."
   ]
  },
  {
   "cell_type": "markdown",
   "metadata": {},
   "source": [
    "### 10.13 Calculate the statistical significance of the differences in the average order revenue between groups on cleaned data"
   ]
  },
  {
   "cell_type": "markdown",
   "metadata": {},
   "source": [
    "*Null hypothesis:* The average order revenue in groups A and B are the same in cleaned data<br>\n",
    "*Alternative hypothesis:* The average order revenue in groups A and B are different in cleaned data.\n",
    "\n",
    "The hypothesis is tested by the Mann-Whitney test stats.mannwhitneyu. If the pvalue of the method result is less than 0.05 -> we reject the null hypothesis."
   ]
  },
  {
   "cell_type": "code",
   "execution_count": 48,
   "metadata": {},
   "outputs": [
    {
     "name": "stdout",
     "output_type": "stream",
     "text": [
      "p-value = 0.369\n",
      "Relative difference in the average order revenue -0.020\n"
     ]
    }
   ],
   "source": [
    "print('p-value =',\n",
    "    '{0:.3f}'.format(\n",
    "        st.mannwhitneyu(\n",
    "            orders[\n",
    "                np.logical_and(\n",
    "                    orders['group'] == 'A',\n",
    "                    np.logical_not(orders['visitor_id'].isin(abnormalUsers)),\n",
    "                )\n",
    "            ]['revenue'],\n",
    "            orders[\n",
    "                np.logical_and(\n",
    "                    orders['group'] == 'B',\n",
    "                    np.logical_not(orders['visitor_id'].isin(abnormalUsers)),\n",
    "                )\n",
    "            ]['revenue'],\n",
    "        )[1]\n",
    "    )\n",
    ")\n",
    "\n",
    "print('Relative difference in the average order revenue',\n",
    "    \"{0:.3f}\".format(\n",
    "        orders[\n",
    "            np.logical_and(\n",
    "                orders['group'] == 'B',\n",
    "                np.logical_not(orders['visitor_id'].isin(abnormalUsers)),\n",
    "            )\n",
    "        ]['revenue'].mean()\n",
    "        / orders[\n",
    "            np.logical_and(\n",
    "                orders['group'] == 'A',\n",
    "                np.logical_not(orders['visitor_id'].isin(abnormalUsers)),\n",
    "            )\n",
    "        ]['revenue'].mean()\n",
    "        - 1\n",
    "    )\n",
    ")"
   ]
  },
  {
   "cell_type": "markdown",
   "metadata": {},
   "source": [
    "P-value 0.369 is significantly greater than 0.05. There is no reason to reject the null hypothesis. There is no difference in the average order revenue between the groups in cleaned data."
   ]
  },
  {
   "cell_type": "markdown",
   "metadata": {},
   "source": [
    "### 11. Conclusion\n",
    "\n",
    "There are no differences between the groups in the average order revenue, but group B greatly outperforms group A in terms of conversion.\n",
    "\n",
    "The relative gain in the conversion of group B in cleaned data is 17.3%.\n",
    "\n",
    "I would stop the test and implement changes from group B, even if the average order revenue of group B is equal to the average order revenue of group A, the changes implemented in group B bring more paying customers to the service.\n"
   ]
  },
  {
   "cell_type": "code",
   "execution_count": null,
   "metadata": {},
   "outputs": [],
   "source": []
  }
 ],
 "metadata": {
  "ExecuteTimeLog": [
   {
    "duration": 1145,
    "start_time": "2021-11-13T20:21:06.256Z"
   },
   {
    "duration": 1177,
    "start_time": "2021-11-13T20:27:00.434Z"
   },
   {
    "duration": 31,
    "start_time": "2021-11-13T20:34:48.603Z"
   },
   {
    "duration": 26,
    "start_time": "2021-11-13T20:35:07.312Z"
   },
   {
    "duration": 3,
    "start_time": "2021-11-13T20:35:48.475Z"
   },
   {
    "duration": 7,
    "start_time": "2021-11-13T20:35:55.441Z"
   },
   {
    "duration": 51,
    "start_time": "2021-11-13T20:37:39.845Z"
   },
   {
    "duration": 51,
    "start_time": "2021-11-13T20:37:50.634Z"
   },
   {
    "duration": 28,
    "start_time": "2021-11-13T20:38:15.178Z"
   },
   {
    "duration": 49,
    "start_time": "2021-11-13T20:38:50.067Z"
   },
   {
    "duration": 105,
    "start_time": "2021-11-13T20:41:14.686Z"
   },
   {
    "duration": 8,
    "start_time": "2021-11-13T20:41:27.777Z"
   },
   {
    "duration": 50,
    "start_time": "2021-11-13T20:41:34.270Z"
   },
   {
    "duration": 364,
    "start_time": "2021-11-13T20:42:41.957Z"
   },
   {
    "duration": 2531,
    "start_time": "2021-11-13T20:43:07.569Z"
   },
   {
    "duration": 29,
    "start_time": "2021-11-13T20:43:19.978Z"
   },
   {
    "duration": 5,
    "start_time": "2021-11-13T20:43:27.924Z"
   },
   {
    "duration": 9,
    "start_time": "2021-11-13T20:44:13.165Z"
   },
   {
    "duration": 6,
    "start_time": "2021-11-13T20:44:28.589Z"
   },
   {
    "duration": 11,
    "start_time": "2021-11-13T20:44:59.460Z"
   },
   {
    "duration": 8,
    "start_time": "2021-11-13T20:45:10.801Z"
   },
   {
    "duration": 8,
    "start_time": "2021-11-13T20:45:15.308Z"
   },
   {
    "duration": 8,
    "start_time": "2021-11-13T20:45:22.911Z"
   },
   {
    "duration": 9,
    "start_time": "2021-11-13T20:46:52.867Z"
   },
   {
    "duration": 170,
    "start_time": "2021-11-13T20:47:47.428Z"
   },
   {
    "duration": 160,
    "start_time": "2021-11-13T20:48:29.849Z"
   },
   {
    "duration": 7,
    "start_time": "2021-11-13T20:48:31.477Z"
   },
   {
    "duration": 5,
    "start_time": "2021-11-13T20:49:24.592Z"
   },
   {
    "duration": 5,
    "start_time": "2021-11-13T20:49:30.390Z"
   },
   {
    "duration": 8,
    "start_time": "2021-11-13T20:59:26.254Z"
   },
   {
    "duration": 170,
    "start_time": "2021-11-13T21:13:12.258Z"
   },
   {
    "duration": 12,
    "start_time": "2021-11-13T21:15:20.848Z"
   },
   {
    "duration": 12,
    "start_time": "2021-11-13T21:15:27.808Z"
   },
   {
    "duration": 1267,
    "start_time": "2021-11-13T21:15:49.254Z"
   },
   {
    "duration": 31,
    "start_time": "2021-11-13T21:15:50.523Z"
   },
   {
    "duration": 8,
    "start_time": "2021-11-13T21:15:50.559Z"
   },
   {
    "duration": 61,
    "start_time": "2021-11-13T21:15:50.569Z"
   },
   {
    "duration": 4,
    "start_time": "2021-11-13T21:15:50.632Z"
   },
   {
    "duration": 10,
    "start_time": "2021-11-13T21:15:50.638Z"
   },
   {
    "duration": 11,
    "start_time": "2021-11-13T21:15:50.650Z"
   },
   {
    "duration": 173,
    "start_time": "2021-11-13T21:15:50.664Z"
   },
   {
    "duration": 10,
    "start_time": "2021-11-13T21:15:50.839Z"
   },
   {
    "duration": 20,
    "start_time": "2021-11-13T21:15:50.850Z"
   },
   {
    "duration": 35,
    "start_time": "2021-11-13T21:15:50.872Z"
   },
   {
    "duration": 5,
    "start_time": "2021-11-13T21:15:50.910Z"
   },
   {
    "duration": 13,
    "start_time": "2021-11-13T21:15:50.918Z"
   },
   {
    "duration": 185,
    "start_time": "2021-11-13T21:15:50.933Z"
   },
   {
    "duration": 9,
    "start_time": "2021-11-13T21:15:51.119Z"
   },
   {
    "duration": 88,
    "start_time": "2021-11-13T21:15:51.129Z"
   },
   {
    "duration": 265,
    "start_time": "2021-11-13T21:15:50.954Z"
   },
   {
    "duration": 8,
    "start_time": "2021-11-13T21:15:57.676Z"
   },
   {
    "duration": 9,
    "start_time": "2021-11-13T21:17:08.153Z"
   },
   {
    "duration": 10,
    "start_time": "2021-11-13T21:17:18.079Z"
   },
   {
    "duration": 17,
    "start_time": "2021-11-13T21:17:36.164Z"
   },
   {
    "duration": 14,
    "start_time": "2021-11-13T21:18:03.457Z"
   },
   {
    "duration": 16,
    "start_time": "2021-11-13T21:18:12.769Z"
   },
   {
    "duration": 14,
    "start_time": "2021-11-13T21:19:14.755Z"
   },
   {
    "duration": 453,
    "start_time": "2021-11-13T21:37:18.842Z"
   },
   {
    "duration": 185,
    "start_time": "2021-11-13T21:38:05.331Z"
   },
   {
    "duration": 419,
    "start_time": "2021-11-13T21:38:08.947Z"
   },
   {
    "duration": 370,
    "start_time": "2021-11-13T21:39:09.754Z"
   },
   {
    "duration": 1647,
    "start_time": "2021-11-13T21:40:32.325Z"
   },
   {
    "duration": 173,
    "start_time": "2021-11-13T21:41:10.415Z"
   },
   {
    "duration": 180,
    "start_time": "2021-11-13T21:41:17.787Z"
   },
   {
    "duration": 1493,
    "start_time": "2021-11-13T21:41:30.538Z"
   },
   {
    "duration": 171,
    "start_time": "2021-11-13T21:41:52.397Z"
   },
   {
    "duration": 167,
    "start_time": "2021-11-13T21:43:07.592Z"
   },
   {
    "duration": 1454,
    "start_time": "2021-11-13T21:47:44.590Z"
   },
   {
    "duration": 3,
    "start_time": "2021-11-13T21:48:27.165Z"
   },
   {
    "duration": 5,
    "start_time": "2021-11-13T21:48:38.071Z"
   },
   {
    "duration": 5,
    "start_time": "2021-11-13T21:49:47.631Z"
   },
   {
    "duration": 6,
    "start_time": "2021-11-13T21:50:02.160Z"
   },
   {
    "duration": 5,
    "start_time": "2021-11-13T21:50:31.995Z"
   },
   {
    "duration": 90,
    "start_time": "2021-11-13T21:50:55.516Z"
   },
   {
    "duration": 5,
    "start_time": "2021-11-13T21:51:05.001Z"
   },
   {
    "duration": 5,
    "start_time": "2021-11-13T21:51:11.570Z"
   },
   {
    "duration": 9,
    "start_time": "2021-11-14T18:35:53.261Z"
   },
   {
    "duration": 8,
    "start_time": "2021-11-14T18:36:06.062Z"
   },
   {
    "duration": 10,
    "start_time": "2021-11-14T18:36:44.449Z"
   },
   {
    "duration": 9,
    "start_time": "2021-11-14T18:36:58.172Z"
   },
   {
    "duration": 83,
    "start_time": "2021-11-14T18:38:57.792Z"
   },
   {
    "duration": 378,
    "start_time": "2021-11-14T18:39:02.481Z"
   },
   {
    "duration": 15,
    "start_time": "2021-11-14T18:39:39.387Z"
   },
   {
    "duration": 305,
    "start_time": "2021-11-14T18:40:39.157Z"
   },
   {
    "duration": 356,
    "start_time": "2021-11-14T18:41:42.089Z"
   },
   {
    "duration": 12,
    "start_time": "2021-11-14T18:42:09.115Z"
   },
   {
    "duration": 321,
    "start_time": "2021-11-14T18:42:16.682Z"
   },
   {
    "duration": 327,
    "start_time": "2021-11-14T18:46:56.030Z"
   },
   {
    "duration": 1190,
    "start_time": "2021-11-14T18:47:28.124Z"
   },
   {
    "duration": 33,
    "start_time": "2021-11-14T18:47:29.316Z"
   },
   {
    "duration": 7,
    "start_time": "2021-11-14T18:47:29.351Z"
   },
   {
    "duration": 57,
    "start_time": "2021-11-14T18:47:29.363Z"
   },
   {
    "duration": 4,
    "start_time": "2021-11-14T18:47:29.422Z"
   },
   {
    "duration": 8,
    "start_time": "2021-11-14T18:47:29.428Z"
   },
   {
    "duration": 9,
    "start_time": "2021-11-14T18:47:29.437Z"
   },
   {
    "duration": 189,
    "start_time": "2021-11-14T18:47:29.448Z"
   },
   {
    "duration": 1552,
    "start_time": "2021-11-14T18:47:29.640Z"
   },
   {
    "duration": 11,
    "start_time": "2021-11-14T18:47:31.194Z"
   },
   {
    "duration": 14,
    "start_time": "2021-11-14T18:47:31.207Z"
   },
   {
    "duration": 43,
    "start_time": "2021-11-14T18:47:31.222Z"
   },
   {
    "duration": 5,
    "start_time": "2021-11-14T18:47:31.267Z"
   },
   {
    "duration": 19,
    "start_time": "2021-11-14T18:47:31.274Z"
   },
   {
    "duration": 196,
    "start_time": "2021-11-14T18:47:31.295Z"
   },
   {
    "duration": 458,
    "start_time": "2021-11-14T18:47:31.493Z"
   },
   {
    "duration": 12,
    "start_time": "2021-11-14T18:47:31.953Z"
   },
   {
    "duration": 27,
    "start_time": "2021-11-14T18:47:31.967Z"
   },
   {
    "duration": 12,
    "start_time": "2021-11-14T18:47:31.996Z"
   },
   {
    "duration": 20,
    "start_time": "2021-11-14T18:47:32.009Z"
   },
   {
    "duration": 373,
    "start_time": "2021-11-14T18:47:32.031Z"
   },
   {
    "duration": 10,
    "start_time": "2021-11-14T18:48:37.995Z"
   },
   {
    "duration": 11,
    "start_time": "2021-11-14T18:49:05.426Z"
   },
   {
    "duration": 517,
    "start_time": "2021-11-14T18:49:09.808Z"
   },
   {
    "duration": 514,
    "start_time": "2021-11-14T18:49:22.688Z"
   },
   {
    "duration": 478,
    "start_time": "2021-11-14T18:49:48.681Z"
   },
   {
    "duration": 391,
    "start_time": "2021-11-14T18:49:58.587Z"
   },
   {
    "duration": 1777,
    "start_time": "2021-11-14T18:50:07.769Z"
   },
   {
    "duration": 160,
    "start_time": "2021-11-14T18:51:51.921Z"
   },
   {
    "duration": 233,
    "start_time": "2021-11-14T18:51:56.782Z"
   },
   {
    "duration": 207,
    "start_time": "2021-11-14T18:52:04.234Z"
   },
   {
    "duration": 10,
    "start_time": "2021-11-14T18:53:22.989Z"
   },
   {
    "duration": 16,
    "start_time": "2021-11-14T18:55:53.879Z"
   },
   {
    "duration": 1116,
    "start_time": "2021-11-14T18:56:38.842Z"
   },
   {
    "duration": 19,
    "start_time": "2021-11-14T18:56:54.464Z"
   },
   {
    "duration": 19,
    "start_time": "2021-11-14T18:57:11.989Z"
   },
   {
    "duration": 443,
    "start_time": "2021-11-14T18:57:51.259Z"
   },
   {
    "duration": 390,
    "start_time": "2021-11-14T18:58:00.529Z"
   },
   {
    "duration": 386,
    "start_time": "2021-11-14T18:58:09.320Z"
   },
   {
    "duration": 360,
    "start_time": "2021-11-14T19:03:49.772Z"
   },
   {
    "duration": 1120,
    "start_time": "2021-11-14T19:04:29.603Z"
   },
   {
    "duration": 30,
    "start_time": "2021-11-14T19:04:30.726Z"
   },
   {
    "duration": 13,
    "start_time": "2021-11-14T19:04:30.757Z"
   },
   {
    "duration": 59,
    "start_time": "2021-11-14T19:04:30.772Z"
   },
   {
    "duration": 6,
    "start_time": "2021-11-14T19:04:30.833Z"
   },
   {
    "duration": 10,
    "start_time": "2021-11-14T19:04:30.840Z"
   },
   {
    "duration": 20,
    "start_time": "2021-11-14T19:04:30.852Z"
   },
   {
    "duration": 231,
    "start_time": "2021-11-14T19:04:30.876Z"
   },
   {
    "duration": 1356,
    "start_time": "2021-11-14T19:04:31.110Z"
   },
   {
    "duration": 1268,
    "start_time": "2021-11-14T19:04:31.201Z"
   },
   {
    "duration": 1266,
    "start_time": "2021-11-14T19:04:31.204Z"
   },
   {
    "duration": 1260,
    "start_time": "2021-11-14T19:04:31.212Z"
   },
   {
    "duration": 1257,
    "start_time": "2021-11-14T19:04:31.216Z"
   },
   {
    "duration": 1253,
    "start_time": "2021-11-14T19:04:31.221Z"
   },
   {
    "duration": 1249,
    "start_time": "2021-11-14T19:04:31.227Z"
   },
   {
    "duration": 1247,
    "start_time": "2021-11-14T19:04:31.230Z"
   },
   {
    "duration": 1246,
    "start_time": "2021-11-14T19:04:31.233Z"
   },
   {
    "duration": 1244,
    "start_time": "2021-11-14T19:04:31.236Z"
   },
   {
    "duration": 1242,
    "start_time": "2021-11-14T19:04:31.239Z"
   },
   {
    "duration": 1239,
    "start_time": "2021-11-14T19:04:31.244Z"
   },
   {
    "duration": 1237,
    "start_time": "2021-11-14T19:04:31.248Z"
   },
   {
    "duration": 1169,
    "start_time": "2021-11-14T19:04:31.317Z"
   },
   {
    "duration": 3,
    "start_time": "2021-11-14T19:05:04.194Z"
   },
   {
    "duration": 1208,
    "start_time": "2021-11-14T19:05:08.419Z"
   },
   {
    "duration": 34,
    "start_time": "2021-11-14T19:05:09.629Z"
   },
   {
    "duration": 8,
    "start_time": "2021-11-14T19:05:09.665Z"
   },
   {
    "duration": 56,
    "start_time": "2021-11-14T19:05:09.675Z"
   },
   {
    "duration": 5,
    "start_time": "2021-11-14T19:05:09.733Z"
   },
   {
    "duration": 12,
    "start_time": "2021-11-14T19:05:09.740Z"
   },
   {
    "duration": 15,
    "start_time": "2021-11-14T19:05:09.754Z"
   },
   {
    "duration": 230,
    "start_time": "2021-11-14T19:05:09.771Z"
   },
   {
    "duration": 1391,
    "start_time": "2021-11-14T19:05:10.004Z"
   },
   {
    "duration": 1276,
    "start_time": "2021-11-14T19:05:10.121Z"
   },
   {
    "duration": 1273,
    "start_time": "2021-11-14T19:05:10.125Z"
   },
   {
    "duration": 1272,
    "start_time": "2021-11-14T19:05:10.127Z"
   },
   {
    "duration": 1268,
    "start_time": "2021-11-14T19:05:10.132Z"
   },
   {
    "duration": 1264,
    "start_time": "2021-11-14T19:05:10.137Z"
   },
   {
    "duration": 1262,
    "start_time": "2021-11-14T19:05:10.140Z"
   },
   {
    "duration": 1255,
    "start_time": "2021-11-14T19:05:10.148Z"
   },
   {
    "duration": 1250,
    "start_time": "2021-11-14T19:05:10.154Z"
   },
   {
    "duration": 1247,
    "start_time": "2021-11-14T19:05:10.158Z"
   },
   {
    "duration": 1244,
    "start_time": "2021-11-14T19:05:10.162Z"
   },
   {
    "duration": 1162,
    "start_time": "2021-11-14T19:05:10.245Z"
   },
   {
    "duration": 1156,
    "start_time": "2021-11-14T19:05:10.252Z"
   },
   {
    "duration": 1151,
    "start_time": "2021-11-14T19:05:10.258Z"
   },
   {
    "duration": 1223,
    "start_time": "2021-11-14T19:05:37.149Z"
   },
   {
    "duration": 19,
    "start_time": "2021-11-14T19:06:00.610Z"
   },
   {
    "duration": 1139,
    "start_time": "2021-11-14T19:06:20.174Z"
   },
   {
    "duration": 33,
    "start_time": "2021-11-14T19:06:21.315Z"
   },
   {
    "duration": 8,
    "start_time": "2021-11-14T19:06:21.351Z"
   },
   {
    "duration": 55,
    "start_time": "2021-11-14T19:06:21.363Z"
   },
   {
    "duration": 4,
    "start_time": "2021-11-14T19:06:21.420Z"
   },
   {
    "duration": 7,
    "start_time": "2021-11-14T19:06:21.427Z"
   },
   {
    "duration": 9,
    "start_time": "2021-11-14T19:06:21.435Z"
   },
   {
    "duration": 221,
    "start_time": "2021-11-14T19:06:21.447Z"
   },
   {
    "duration": 17,
    "start_time": "2021-11-14T19:06:21.670Z"
   },
   {
    "duration": 9,
    "start_time": "2021-11-14T19:06:21.689Z"
   },
   {
    "duration": 27,
    "start_time": "2021-11-14T19:06:21.700Z"
   },
   {
    "duration": 4,
    "start_time": "2021-11-14T19:06:21.729Z"
   },
   {
    "duration": 33,
    "start_time": "2021-11-14T19:06:21.735Z"
   },
   {
    "duration": 196,
    "start_time": "2021-11-14T19:06:21.769Z"
   },
   {
    "duration": 491,
    "start_time": "2021-11-14T19:06:21.968Z"
   },
   {
    "duration": 11,
    "start_time": "2021-11-14T19:06:22.463Z"
   },
   {
    "duration": 18,
    "start_time": "2021-11-14T19:06:22.476Z"
   },
   {
    "duration": 11,
    "start_time": "2021-11-14T19:06:22.496Z"
   },
   {
    "duration": 12,
    "start_time": "2021-11-14T19:06:22.509Z"
   },
   {
    "duration": 409,
    "start_time": "2021-11-14T19:06:22.523Z"
   },
   {
    "duration": 30,
    "start_time": "2021-11-14T19:06:22.934Z"
   },
   {
    "duration": 384,
    "start_time": "2021-11-14T19:06:22.966Z"
   },
   {
    "duration": 3245,
    "start_time": "2021-11-14T19:07:03.556Z"
   },
   {
    "duration": 1192,
    "start_time": "2021-11-14T19:07:09.027Z"
   },
   {
    "duration": 31,
    "start_time": "2021-11-14T19:07:10.221Z"
   },
   {
    "duration": 12,
    "start_time": "2021-11-14T19:07:10.254Z"
   },
   {
    "duration": 52,
    "start_time": "2021-11-14T19:07:10.268Z"
   },
   {
    "duration": 4,
    "start_time": "2021-11-14T19:07:10.322Z"
   },
   {
    "duration": 14,
    "start_time": "2021-11-14T19:07:10.328Z"
   },
   {
    "duration": 6,
    "start_time": "2021-11-14T19:07:10.344Z"
   },
   {
    "duration": 212,
    "start_time": "2021-11-14T19:07:10.353Z"
   },
   {
    "duration": 18,
    "start_time": "2021-11-14T19:07:10.567Z"
   },
   {
    "duration": 17,
    "start_time": "2021-11-14T19:07:10.587Z"
   },
   {
    "duration": 31,
    "start_time": "2021-11-14T19:07:10.606Z"
   },
   {
    "duration": 4,
    "start_time": "2021-11-14T19:07:10.639Z"
   },
   {
    "duration": 19,
    "start_time": "2021-11-14T19:07:10.644Z"
   },
   {
    "duration": 10,
    "start_time": "2021-11-14T19:07:10.665Z"
   },
   {
    "duration": 190,
    "start_time": "2021-11-14T19:07:10.677Z"
   },
   {
    "duration": 417,
    "start_time": "2021-11-14T19:07:10.869Z"
   },
   {
    "duration": 17,
    "start_time": "2021-11-14T19:07:11.288Z"
   },
   {
    "duration": 11,
    "start_time": "2021-11-14T19:07:11.307Z"
   },
   {
    "duration": 9,
    "start_time": "2021-11-14T19:07:11.320Z"
   },
   {
    "duration": 401,
    "start_time": "2021-11-14T19:07:11.331Z"
   },
   {
    "duration": 34,
    "start_time": "2021-11-14T19:07:11.734Z"
   },
   {
    "duration": 380,
    "start_time": "2021-11-14T19:07:11.770Z"
   },
   {
    "duration": 1153,
    "start_time": "2021-11-14T19:07:44.507Z"
   },
   {
    "duration": 31,
    "start_time": "2021-11-14T19:07:45.662Z"
   },
   {
    "duration": 7,
    "start_time": "2021-11-14T19:07:45.695Z"
   },
   {
    "duration": 56,
    "start_time": "2021-11-14T19:07:45.704Z"
   },
   {
    "duration": 5,
    "start_time": "2021-11-14T19:07:45.761Z"
   },
   {
    "duration": 10,
    "start_time": "2021-11-14T19:07:45.767Z"
   },
   {
    "duration": 26,
    "start_time": "2021-11-14T19:07:45.779Z"
   },
   {
    "duration": 8,
    "start_time": "2021-11-14T19:07:45.807Z"
   },
   {
    "duration": 232,
    "start_time": "2021-11-14T19:07:45.817Z"
   },
   {
    "duration": 13,
    "start_time": "2021-11-14T19:07:46.051Z"
   },
   {
    "duration": 29,
    "start_time": "2021-11-14T19:07:46.066Z"
   },
   {
    "duration": 6,
    "start_time": "2021-11-14T19:07:46.096Z"
   },
   {
    "duration": 16,
    "start_time": "2021-11-14T19:07:46.104Z"
   },
   {
    "duration": 9,
    "start_time": "2021-11-14T19:07:46.122Z"
   },
   {
    "duration": 189,
    "start_time": "2021-11-14T19:07:46.132Z"
   },
   {
    "duration": 407,
    "start_time": "2021-11-14T19:07:46.323Z"
   },
   {
    "duration": 15,
    "start_time": "2021-11-14T19:07:46.732Z"
   },
   {
    "duration": 23,
    "start_time": "2021-11-14T19:07:46.749Z"
   },
   {
    "duration": 9,
    "start_time": "2021-11-14T19:07:46.774Z"
   },
   {
    "duration": 410,
    "start_time": "2021-11-14T19:07:46.784Z"
   },
   {
    "duration": 19,
    "start_time": "2021-11-14T19:07:47.196Z"
   },
   {
    "duration": 400,
    "start_time": "2021-11-14T19:07:47.217Z"
   },
   {
    "duration": 9592,
    "start_time": "2021-11-14T19:12:39.263Z"
   },
   {
    "duration": 760,
    "start_time": "2021-11-14T19:14:39.265Z"
   },
   {
    "duration": 399,
    "start_time": "2021-11-14T19:15:05.224Z"
   },
   {
    "duration": 289,
    "start_time": "2021-11-14T19:15:10.799Z"
   },
   {
    "duration": 486,
    "start_time": "2021-11-14T19:16:17.251Z"
   },
   {
    "duration": 408,
    "start_time": "2021-11-14T19:17:55.504Z"
   },
   {
    "duration": 214,
    "start_time": "2021-11-14T19:17:59.649Z"
   },
   {
    "duration": 235,
    "start_time": "2021-11-14T19:18:39.648Z"
   },
   {
    "duration": 232,
    "start_time": "2021-11-14T19:19:51.395Z"
   },
   {
    "duration": 249,
    "start_time": "2021-11-14T19:19:55.795Z"
   },
   {
    "duration": 242,
    "start_time": "2021-11-14T19:20:00.724Z"
   },
   {
    "duration": 359,
    "start_time": "2021-11-14T19:20:06.798Z"
   },
   {
    "duration": 409,
    "start_time": "2021-11-14T19:22:55.009Z"
   },
   {
    "duration": 426,
    "start_time": "2021-11-14T19:23:00.081Z"
   },
   {
    "duration": 409,
    "start_time": "2021-11-14T19:23:08.604Z"
   },
   {
    "duration": 352,
    "start_time": "2021-11-14T19:23:26.458Z"
   },
   {
    "duration": 296,
    "start_time": "2021-11-14T19:24:16.041Z"
   },
   {
    "duration": 341,
    "start_time": "2021-11-14T19:25:23.180Z"
   },
   {
    "duration": 7,
    "start_time": "2021-11-14T19:28:52.702Z"
   },
   {
    "duration": 530,
    "start_time": "2021-11-14T19:29:53.137Z"
   },
   {
    "duration": 341,
    "start_time": "2021-11-14T19:29:59.908Z"
   },
   {
    "duration": 317,
    "start_time": "2021-11-14T19:30:04.080Z"
   },
   {
    "duration": 170,
    "start_time": "2021-11-14T19:30:15.868Z"
   },
   {
    "duration": 455,
    "start_time": "2021-11-14T19:31:55.183Z"
   },
   {
    "duration": 290,
    "start_time": "2021-11-14T19:32:12.196Z"
   },
   {
    "duration": 160,
    "start_time": "2021-11-14T19:32:14.527Z"
   },
   {
    "duration": 163,
    "start_time": "2021-11-14T19:32:55.517Z"
   },
   {
    "duration": 316,
    "start_time": "2021-11-14T19:32:58.665Z"
   },
   {
    "duration": 1124,
    "start_time": "2021-11-14T19:34:11.911Z"
   },
   {
    "duration": 34,
    "start_time": "2021-11-14T19:34:13.037Z"
   },
   {
    "duration": 9,
    "start_time": "2021-11-14T19:34:13.073Z"
   },
   {
    "duration": 64,
    "start_time": "2021-11-14T19:34:13.084Z"
   },
   {
    "duration": 5,
    "start_time": "2021-11-14T19:34:13.150Z"
   },
   {
    "duration": 9,
    "start_time": "2021-11-14T19:34:13.157Z"
   },
   {
    "duration": 19,
    "start_time": "2021-11-14T19:34:13.168Z"
   },
   {
    "duration": 7,
    "start_time": "2021-11-14T19:34:13.190Z"
   },
   {
    "duration": 236,
    "start_time": "2021-11-14T19:34:13.199Z"
   },
   {
    "duration": 25,
    "start_time": "2021-11-14T19:34:13.438Z"
   },
   {
    "duration": 30,
    "start_time": "2021-11-14T19:34:13.465Z"
   },
   {
    "duration": 5,
    "start_time": "2021-11-14T19:34:13.497Z"
   },
   {
    "duration": 9,
    "start_time": "2021-11-14T19:34:13.504Z"
   },
   {
    "duration": 10,
    "start_time": "2021-11-14T19:34:13.515Z"
   },
   {
    "duration": 218,
    "start_time": "2021-11-14T19:34:13.528Z"
   },
   {
    "duration": 416,
    "start_time": "2021-11-14T19:34:13.748Z"
   },
   {
    "duration": 15,
    "start_time": "2021-11-14T19:34:14.166Z"
   },
   {
    "duration": 12,
    "start_time": "2021-11-14T19:34:14.183Z"
   },
   {
    "duration": 431,
    "start_time": "2021-11-14T19:34:14.197Z"
   },
   {
    "duration": 224,
    "start_time": "2021-11-14T19:34:14.630Z"
   },
   {
    "duration": 339,
    "start_time": "2021-11-14T19:34:14.856Z"
   },
   {
    "duration": 6746,
    "start_time": "2021-11-14T19:34:15.197Z"
   },
   {
    "duration": 1172,
    "start_time": "2021-11-14T19:34:20.773Z"
   },
   {
    "duration": 353,
    "start_time": "2021-11-14T19:35:13.467Z"
   },
   {
    "duration": 310,
    "start_time": "2021-11-14T19:35:18.621Z"
   },
   {
    "duration": 1270,
    "start_time": "2021-11-14T19:36:07.154Z"
   },
   {
    "duration": 31,
    "start_time": "2021-11-14T19:36:08.426Z"
   },
   {
    "duration": 7,
    "start_time": "2021-11-14T19:36:08.460Z"
   },
   {
    "duration": 54,
    "start_time": "2021-11-14T19:36:08.469Z"
   },
   {
    "duration": 4,
    "start_time": "2021-11-14T19:36:08.525Z"
   },
   {
    "duration": 11,
    "start_time": "2021-11-14T19:36:08.530Z"
   },
   {
    "duration": 19,
    "start_time": "2021-11-14T19:36:08.543Z"
   },
   {
    "duration": 6,
    "start_time": "2021-11-14T19:36:08.564Z"
   },
   {
    "duration": 233,
    "start_time": "2021-11-14T19:36:08.572Z"
   },
   {
    "duration": 8,
    "start_time": "2021-11-14T19:36:08.806Z"
   },
   {
    "duration": 29,
    "start_time": "2021-11-14T19:36:08.815Z"
   },
   {
    "duration": 17,
    "start_time": "2021-11-14T19:36:08.846Z"
   },
   {
    "duration": 7,
    "start_time": "2021-11-14T19:36:08.865Z"
   },
   {
    "duration": 11,
    "start_time": "2021-11-14T19:36:08.874Z"
   },
   {
    "duration": 208,
    "start_time": "2021-11-14T19:36:08.886Z"
   },
   {
    "duration": 419,
    "start_time": "2021-11-14T19:36:09.095Z"
   },
   {
    "duration": 16,
    "start_time": "2021-11-14T19:36:09.515Z"
   },
   {
    "duration": 12,
    "start_time": "2021-11-14T19:36:09.533Z"
   },
   {
    "duration": 420,
    "start_time": "2021-11-14T19:36:09.564Z"
   },
   {
    "duration": 218,
    "start_time": "2021-11-14T19:36:09.986Z"
   },
   {
    "duration": 338,
    "start_time": "2021-11-14T19:36:10.206Z"
   },
   {
    "duration": 251,
    "start_time": "2021-11-14T19:36:10.546Z"
   },
   {
    "duration": 311,
    "start_time": "2021-11-14T19:36:10.800Z"
   },
   {
    "duration": 313,
    "start_time": "2021-11-14T19:37:20.833Z"
   },
   {
    "duration": 419,
    "start_time": "2021-11-14T19:38:59.235Z"
   },
   {
    "duration": 424,
    "start_time": "2021-11-14T19:39:42.477Z"
   },
   {
    "duration": 428,
    "start_time": "2021-11-14T19:40:01.806Z"
   },
   {
    "duration": 439,
    "start_time": "2021-11-14T19:40:10.907Z"
   },
   {
    "duration": 715,
    "start_time": "2021-11-14T19:41:17.454Z"
   },
   {
    "duration": 425,
    "start_time": "2021-11-14T19:41:29.169Z"
   },
   {
    "duration": 425,
    "start_time": "2021-11-14T19:41:41.638Z"
   },
   {
    "duration": 460,
    "start_time": "2021-11-14T19:42:35.359Z"
   },
   {
    "duration": 440,
    "start_time": "2021-11-14T19:42:39.050Z"
   },
   {
    "duration": 274,
    "start_time": "2021-11-14T19:44:30.403Z"
   },
   {
    "duration": 588,
    "start_time": "2021-11-14T19:44:44.300Z"
   },
   {
    "duration": 488,
    "start_time": "2021-11-14T19:45:41.801Z"
   },
   {
    "duration": 481,
    "start_time": "2021-11-14T19:47:01.112Z"
   },
   {
    "duration": 469,
    "start_time": "2021-11-14T19:47:11.312Z"
   },
   {
    "duration": 4,
    "start_time": "2021-11-14T19:48:41.074Z"
   },
   {
    "duration": 395,
    "start_time": "2021-11-14T19:50:53.289Z"
   },
   {
    "duration": 443,
    "start_time": "2021-11-14T19:52:09.641Z"
   },
   {
    "duration": 260,
    "start_time": "2021-11-14T19:52:42.059Z"
   },
   {
    "duration": 4,
    "start_time": "2021-11-14T19:52:57.529Z"
   },
   {
    "duration": 757,
    "start_time": "2021-11-14T19:58:01.245Z"
   },
   {
    "duration": 481,
    "start_time": "2021-11-14T19:58:41.249Z"
   },
   {
    "duration": 480,
    "start_time": "2021-11-14T19:58:51.255Z"
   },
   {
    "duration": 550,
    "start_time": "2021-11-14T20:00:51.292Z"
   },
   {
    "duration": 484,
    "start_time": "2021-11-14T20:01:18.388Z"
   },
   {
    "duration": 1115,
    "start_time": "2021-11-14T20:01:51.107Z"
   },
   {
    "duration": 31,
    "start_time": "2021-11-14T20:01:52.224Z"
   },
   {
    "duration": 7,
    "start_time": "2021-11-14T20:01:52.258Z"
   },
   {
    "duration": 53,
    "start_time": "2021-11-14T20:01:52.267Z"
   },
   {
    "duration": 4,
    "start_time": "2021-11-14T20:01:52.322Z"
   },
   {
    "duration": 13,
    "start_time": "2021-11-14T20:01:52.328Z"
   },
   {
    "duration": 21,
    "start_time": "2021-11-14T20:01:52.343Z"
   },
   {
    "duration": 9,
    "start_time": "2021-11-14T20:01:52.366Z"
   },
   {
    "duration": 224,
    "start_time": "2021-11-14T20:01:52.377Z"
   },
   {
    "duration": 15,
    "start_time": "2021-11-14T20:01:52.603Z"
   },
   {
    "duration": 34,
    "start_time": "2021-11-14T20:01:52.619Z"
   },
   {
    "duration": 8,
    "start_time": "2021-11-14T20:01:52.655Z"
   },
   {
    "duration": 10,
    "start_time": "2021-11-14T20:01:52.665Z"
   },
   {
    "duration": 17,
    "start_time": "2021-11-14T20:01:52.676Z"
   },
   {
    "duration": 200,
    "start_time": "2021-11-14T20:01:52.695Z"
   },
   {
    "duration": 428,
    "start_time": "2021-11-14T20:01:52.897Z"
   },
   {
    "duration": 16,
    "start_time": "2021-11-14T20:01:53.326Z"
   },
   {
    "duration": 20,
    "start_time": "2021-11-14T20:01:53.344Z"
   },
   {
    "duration": 435,
    "start_time": "2021-11-14T20:01:53.366Z"
   },
   {
    "duration": 227,
    "start_time": "2021-11-14T20:01:53.803Z"
   },
   {
    "duration": 402,
    "start_time": "2021-11-14T20:01:54.032Z"
   },
   {
    "duration": 542,
    "start_time": "2021-11-14T20:01:54.436Z"
   },
   {
    "duration": 186,
    "start_time": "2021-11-14T20:01:54.981Z"
   },
   {
    "duration": 340,
    "start_time": "2021-11-14T20:01:55.170Z"
   },
   {
    "duration": 430,
    "start_time": "2021-11-14T20:01:55.512Z"
   },
   {
    "duration": 545,
    "start_time": "2021-11-14T20:01:55.943Z"
   },
   {
    "duration": 4,
    "start_time": "2021-11-14T20:01:56.490Z"
   },
   {
    "duration": 428,
    "start_time": "2021-11-14T20:01:56.496Z"
   },
   {
    "duration": 4,
    "start_time": "2021-11-14T20:01:56.926Z"
   },
   {
    "duration": 501,
    "start_time": "2021-11-14T20:01:56.932Z"
   },
   {
    "duration": 278,
    "start_time": "2021-11-14T20:01:57.435Z"
   },
   {
    "duration": 1483,
    "start_time": "2021-11-15T09:48:07.036Z"
   },
   {
    "duration": 40,
    "start_time": "2021-11-15T09:48:08.523Z"
   },
   {
    "duration": 13,
    "start_time": "2021-11-15T09:48:08.566Z"
   },
   {
    "duration": 75,
    "start_time": "2021-11-15T09:48:08.583Z"
   },
   {
    "duration": 5,
    "start_time": "2021-11-15T09:48:08.661Z"
   },
   {
    "duration": 15,
    "start_time": "2021-11-15T09:48:08.669Z"
   },
   {
    "duration": 43,
    "start_time": "2021-11-15T09:48:08.686Z"
   },
   {
    "duration": 8,
    "start_time": "2021-11-15T09:48:08.733Z"
   },
   {
    "duration": 373,
    "start_time": "2021-11-15T09:48:08.744Z"
   },
   {
    "duration": 11,
    "start_time": "2021-11-15T09:48:09.120Z"
   },
   {
    "duration": 34,
    "start_time": "2021-11-15T09:48:09.134Z"
   },
   {
    "duration": 7,
    "start_time": "2021-11-15T09:48:09.170Z"
   },
   {
    "duration": 13,
    "start_time": "2021-11-15T09:48:09.179Z"
   },
   {
    "duration": 13,
    "start_time": "2021-11-15T09:48:09.223Z"
   },
   {
    "duration": 335,
    "start_time": "2021-11-15T09:48:09.238Z"
   },
   {
    "duration": 702,
    "start_time": "2021-11-15T09:48:09.576Z"
   },
   {
    "duration": 35,
    "start_time": "2021-11-15T09:48:10.280Z"
   },
   {
    "duration": 18,
    "start_time": "2021-11-15T09:48:10.318Z"
   },
   {
    "duration": 752,
    "start_time": "2021-11-15T09:48:10.338Z"
   },
   {
    "duration": 459,
    "start_time": "2021-11-15T09:48:11.093Z"
   },
   {
    "duration": 543,
    "start_time": "2021-11-15T09:48:11.555Z"
   },
   {
    "duration": 754,
    "start_time": "2021-11-15T09:48:12.101Z"
   },
   {
    "duration": 300,
    "start_time": "2021-11-15T09:48:12.859Z"
   },
   {
    "duration": 538,
    "start_time": "2021-11-15T09:48:13.162Z"
   },
   {
    "duration": 622,
    "start_time": "2021-11-15T09:48:13.703Z"
   },
   {
    "duration": 898,
    "start_time": "2021-11-15T09:48:14.328Z"
   },
   {
    "duration": 6,
    "start_time": "2021-11-15T09:48:15.229Z"
   },
   {
    "duration": 638,
    "start_time": "2021-11-15T09:48:15.237Z"
   },
   {
    "duration": 5,
    "start_time": "2021-11-15T09:48:15.877Z"
   },
   {
    "duration": 900,
    "start_time": "2021-11-15T09:48:15.884Z"
   },
   {
    "duration": 542,
    "start_time": "2021-11-15T09:48:16.786Z"
   },
   {
    "duration": 465,
    "start_time": "2021-11-15T09:48:17.331Z"
   },
   {
    "duration": -260,
    "start_time": "2021-11-15T09:48:18.059Z"
   },
   {
    "duration": 951,
    "start_time": "2021-11-15T09:51:32.539Z"
   },
   {
    "duration": 656,
    "start_time": "2021-11-15T09:51:44.173Z"
   },
   {
    "duration": 215,
    "start_time": "2021-11-15T09:52:33.608Z"
   },
   {
    "duration": 1520,
    "start_time": "2021-11-15T09:54:59.893Z"
   },
   {
    "duration": 40,
    "start_time": "2021-11-15T09:55:01.416Z"
   },
   {
    "duration": 18,
    "start_time": "2021-11-15T09:55:01.459Z"
   },
   {
    "duration": 90,
    "start_time": "2021-11-15T09:55:01.479Z"
   },
   {
    "duration": 11,
    "start_time": "2021-11-15T09:55:01.572Z"
   },
   {
    "duration": 19,
    "start_time": "2021-11-15T09:55:01.586Z"
   },
   {
    "duration": 49,
    "start_time": "2021-11-15T09:55:01.608Z"
   },
   {
    "duration": 31,
    "start_time": "2021-11-15T09:55:01.661Z"
   },
   {
    "duration": 386,
    "start_time": "2021-11-15T09:55:01.696Z"
   },
   {
    "duration": 10,
    "start_time": "2021-11-15T09:55:02.084Z"
   },
   {
    "duration": 42,
    "start_time": "2021-11-15T09:55:02.096Z"
   },
   {
    "duration": 6,
    "start_time": "2021-11-15T09:55:02.140Z"
   },
   {
    "duration": 19,
    "start_time": "2021-11-15T09:55:02.149Z"
   },
   {
    "duration": 14,
    "start_time": "2021-11-15T09:55:02.171Z"
   },
   {
    "duration": 346,
    "start_time": "2021-11-15T09:55:02.188Z"
   },
   {
    "duration": 864,
    "start_time": "2021-11-15T09:55:02.536Z"
   },
   {
    "duration": 30,
    "start_time": "2021-11-15T09:55:03.402Z"
   },
   {
    "duration": 19,
    "start_time": "2021-11-15T09:55:03.435Z"
   },
   {
    "duration": 711,
    "start_time": "2021-11-15T09:55:03.456Z"
   },
   {
    "duration": 354,
    "start_time": "2021-11-15T09:55:04.170Z"
   },
   {
    "duration": 551,
    "start_time": "2021-11-15T09:55:04.527Z"
   },
   {
    "duration": 702,
    "start_time": "2021-11-15T09:55:05.080Z"
   },
   {
    "duration": 295,
    "start_time": "2021-11-15T09:55:05.787Z"
   },
   {
    "duration": 525,
    "start_time": "2021-11-15T09:55:06.084Z"
   },
   {
    "duration": 722,
    "start_time": "2021-11-15T09:55:06.611Z"
   },
   {
    "duration": 797,
    "start_time": "2021-11-15T09:55:07.335Z"
   },
   {
    "duration": 5,
    "start_time": "2021-11-15T09:55:08.135Z"
   },
   {
    "duration": 606,
    "start_time": "2021-11-15T09:55:08.143Z"
   },
   {
    "duration": 5,
    "start_time": "2021-11-15T09:55:08.752Z"
   },
   {
    "duration": 874,
    "start_time": "2021-11-15T09:55:08.760Z"
   },
   {
    "duration": 252,
    "start_time": "2021-11-15T09:55:09.637Z"
   },
   {
    "duration": 49,
    "start_time": "2021-11-15T09:55:09.892Z"
   },
   {
    "duration": 445,
    "start_time": "2021-11-15T10:00:01.493Z"
   },
   {
    "duration": 15,
    "start_time": "2021-11-15T10:00:07.696Z"
   },
   {
    "duration": 357,
    "start_time": "2021-11-15T14:48:15.349Z"
   },
   {
    "duration": 1477,
    "start_time": "2021-11-15T14:48:23.409Z"
   },
   {
    "duration": 37,
    "start_time": "2021-11-15T14:48:24.889Z"
   },
   {
    "duration": 13,
    "start_time": "2021-11-15T14:48:24.929Z"
   },
   {
    "duration": 73,
    "start_time": "2021-11-15T14:48:24.945Z"
   },
   {
    "duration": 5,
    "start_time": "2021-11-15T14:48:25.020Z"
   },
   {
    "duration": 10,
    "start_time": "2021-11-15T14:48:25.028Z"
   },
   {
    "duration": 47,
    "start_time": "2021-11-15T14:48:25.040Z"
   },
   {
    "duration": 14,
    "start_time": "2021-11-15T14:48:25.091Z"
   },
   {
    "duration": 409,
    "start_time": "2021-11-15T14:48:25.108Z"
   },
   {
    "duration": 10,
    "start_time": "2021-11-15T14:48:25.520Z"
   },
   {
    "duration": 44,
    "start_time": "2021-11-15T14:48:25.532Z"
   },
   {
    "duration": 7,
    "start_time": "2021-11-15T14:48:25.578Z"
   },
   {
    "duration": 13,
    "start_time": "2021-11-15T14:48:25.588Z"
   },
   {
    "duration": 17,
    "start_time": "2021-11-15T14:48:25.604Z"
   },
   {
    "duration": 524,
    "start_time": "2021-11-15T14:48:25.624Z"
   },
   {
    "duration": 704,
    "start_time": "2021-11-15T14:48:26.151Z"
   },
   {
    "duration": 21,
    "start_time": "2021-11-15T14:48:26.858Z"
   },
   {
    "duration": 19,
    "start_time": "2021-11-15T14:48:26.882Z"
   },
   {
    "duration": 747,
    "start_time": "2021-11-15T14:48:26.903Z"
   },
   {
    "duration": 389,
    "start_time": "2021-11-15T14:48:27.652Z"
   },
   {
    "duration": 583,
    "start_time": "2021-11-15T14:48:28.044Z"
   },
   {
    "duration": 763,
    "start_time": "2021-11-15T14:48:28.629Z"
   },
   {
    "duration": 306,
    "start_time": "2021-11-15T14:48:29.396Z"
   },
   {
    "duration": 554,
    "start_time": "2021-11-15T14:48:29.706Z"
   },
   {
    "duration": 662,
    "start_time": "2021-11-15T14:48:30.262Z"
   },
   {
    "duration": 841,
    "start_time": "2021-11-15T14:48:30.926Z"
   },
   {
    "duration": 6,
    "start_time": "2021-11-15T14:48:31.769Z"
   },
   {
    "duration": 663,
    "start_time": "2021-11-15T14:48:31.777Z"
   },
   {
    "duration": 5,
    "start_time": "2021-11-15T14:48:32.443Z"
   },
   {
    "duration": 949,
    "start_time": "2021-11-15T14:48:32.451Z"
   },
   {
    "duration": 17,
    "start_time": "2021-11-15T14:48:33.403Z"
   },
   {
    "duration": 261,
    "start_time": "2021-11-15T14:48:33.424Z"
   },
   {
    "duration": 39,
    "start_time": "2021-11-15T14:48:33.688Z"
   },
   {
    "duration": 586,
    "start_time": "2021-11-15T14:48:42.901Z"
   },
   {
    "duration": 626,
    "start_time": "2021-11-15T15:34:28.415Z"
   },
   {
    "duration": 545,
    "start_time": "2021-11-15T15:34:51.115Z"
   },
   {
    "duration": 700,
    "start_time": "2021-11-15T15:54:16.361Z"
   },
   {
    "duration": 672,
    "start_time": "2021-11-15T15:56:52.729Z"
   },
   {
    "duration": 15,
    "start_time": "2021-11-15T16:04:04.730Z"
   },
   {
    "duration": 16,
    "start_time": "2021-11-15T16:05:43.679Z"
   },
   {
    "duration": 1525,
    "start_time": "2021-11-15T16:05:51.226Z"
   },
   {
    "duration": 36,
    "start_time": "2021-11-15T16:05:52.754Z"
   },
   {
    "duration": 15,
    "start_time": "2021-11-15T16:05:52.794Z"
   },
   {
    "duration": 62,
    "start_time": "2021-11-15T16:05:52.813Z"
   },
   {
    "duration": 6,
    "start_time": "2021-11-15T16:05:52.877Z"
   },
   {
    "duration": 14,
    "start_time": "2021-11-15T16:05:52.885Z"
   },
   {
    "duration": 29,
    "start_time": "2021-11-15T16:05:52.902Z"
   },
   {
    "duration": 37,
    "start_time": "2021-11-15T16:05:52.935Z"
   },
   {
    "duration": 378,
    "start_time": "2021-11-15T16:05:52.976Z"
   },
   {
    "duration": 19,
    "start_time": "2021-11-15T16:05:53.356Z"
   },
   {
    "duration": 32,
    "start_time": "2021-11-15T16:05:53.378Z"
   },
   {
    "duration": 6,
    "start_time": "2021-11-15T16:05:53.413Z"
   },
   {
    "duration": 46,
    "start_time": "2021-11-15T16:05:53.422Z"
   },
   {
    "duration": 14,
    "start_time": "2021-11-15T16:05:53.471Z"
   },
   {
    "duration": 333,
    "start_time": "2021-11-15T16:05:53.487Z"
   },
   {
    "duration": 708,
    "start_time": "2021-11-15T16:05:53.823Z"
   },
   {
    "duration": 35,
    "start_time": "2021-11-15T16:05:54.534Z"
   },
   {
    "duration": 19,
    "start_time": "2021-11-15T16:05:54.571Z"
   },
   {
    "duration": 731,
    "start_time": "2021-11-15T16:05:54.593Z"
   },
   {
    "duration": 357,
    "start_time": "2021-11-15T16:05:55.328Z"
   },
   {
    "duration": 651,
    "start_time": "2021-11-15T16:05:55.688Z"
   },
   {
    "duration": 891,
    "start_time": "2021-11-15T16:05:56.342Z"
   },
   {
    "duration": 297,
    "start_time": "2021-11-15T16:05:57.237Z"
   },
   {
    "duration": 566,
    "start_time": "2021-11-15T16:05:57.536Z"
   },
   {
    "duration": 608,
    "start_time": "2021-11-15T16:05:58.105Z"
   },
   {
    "duration": 788,
    "start_time": "2021-11-15T16:05:58.716Z"
   },
   {
    "duration": 6,
    "start_time": "2021-11-15T16:05:59.507Z"
   },
   {
    "duration": 683,
    "start_time": "2021-11-15T16:05:59.515Z"
   },
   {
    "duration": 7,
    "start_time": "2021-11-15T16:06:00.201Z"
   },
   {
    "duration": 721,
    "start_time": "2021-11-15T16:06:00.211Z"
   },
   {
    "duration": 14,
    "start_time": "2021-11-15T16:06:00.935Z"
   },
   {
    "duration": 27,
    "start_time": "2021-11-15T16:06:00.951Z"
   },
   {
    "duration": 56,
    "start_time": "2021-11-15T16:06:00.980Z"
   },
   {
    "duration": 36,
    "start_time": "2021-11-15T16:06:09.307Z"
   },
   {
    "duration": 15,
    "start_time": "2021-11-15T16:06:18.867Z"
   },
   {
    "duration": 15,
    "start_time": "2021-11-15T16:07:55.073Z"
   },
   {
    "duration": 11,
    "start_time": "2021-11-15T16:08:42.460Z"
   },
   {
    "duration": 13,
    "start_time": "2021-11-15T16:10:36.063Z"
   },
   {
    "duration": 12,
    "start_time": "2021-11-15T16:10:46.976Z"
   },
   {
    "duration": 1518,
    "start_time": "2021-11-15T16:17:44.731Z"
   },
   {
    "duration": 37,
    "start_time": "2021-11-15T16:17:46.252Z"
   },
   {
    "duration": 13,
    "start_time": "2021-11-15T16:17:46.293Z"
   },
   {
    "duration": 69,
    "start_time": "2021-11-15T16:17:46.309Z"
   },
   {
    "duration": 5,
    "start_time": "2021-11-15T16:17:46.380Z"
   },
   {
    "duration": 12,
    "start_time": "2021-11-15T16:17:46.387Z"
   },
   {
    "duration": 29,
    "start_time": "2021-11-15T16:17:46.401Z"
   },
   {
    "duration": 8,
    "start_time": "2021-11-15T16:17:46.468Z"
   },
   {
    "duration": 389,
    "start_time": "2021-11-15T16:17:46.478Z"
   },
   {
    "duration": 11,
    "start_time": "2021-11-15T16:17:46.869Z"
   },
   {
    "duration": 34,
    "start_time": "2021-11-15T16:17:46.882Z"
   },
   {
    "duration": 7,
    "start_time": "2021-11-15T16:17:46.919Z"
   },
   {
    "duration": 46,
    "start_time": "2021-11-15T16:17:46.928Z"
   },
   {
    "duration": 16,
    "start_time": "2021-11-15T16:17:46.977Z"
   },
   {
    "duration": 337,
    "start_time": "2021-11-15T16:17:46.996Z"
   },
   {
    "duration": 683,
    "start_time": "2021-11-15T16:17:47.335Z"
   },
   {
    "duration": 21,
    "start_time": "2021-11-15T16:17:48.021Z"
   },
   {
    "duration": 39,
    "start_time": "2021-11-15T16:17:48.045Z"
   },
   {
    "duration": 811,
    "start_time": "2021-11-15T16:17:48.087Z"
   },
   {
    "duration": 427,
    "start_time": "2021-11-15T16:17:48.900Z"
   },
   {
    "duration": 719,
    "start_time": "2021-11-15T16:17:49.329Z"
   },
   {
    "duration": 765,
    "start_time": "2021-11-15T16:17:50.051Z"
   },
   {
    "duration": 295,
    "start_time": "2021-11-15T16:17:50.820Z"
   },
   {
    "duration": 539,
    "start_time": "2021-11-15T16:17:51.118Z"
   },
   {
    "duration": 529,
    "start_time": "2021-11-15T16:17:51.659Z"
   },
   {
    "duration": 812,
    "start_time": "2021-11-15T16:17:52.191Z"
   },
   {
    "duration": 6,
    "start_time": "2021-11-15T16:17:53.005Z"
   },
   {
    "duration": 675,
    "start_time": "2021-11-15T16:17:53.014Z"
   },
   {
    "duration": 5,
    "start_time": "2021-11-15T16:17:53.692Z"
   },
   {
    "duration": 680,
    "start_time": "2021-11-15T16:17:53.700Z"
   },
   {
    "duration": 14,
    "start_time": "2021-11-15T16:17:54.382Z"
   },
   {
    "duration": 12,
    "start_time": "2021-11-15T16:17:54.399Z"
   },
   {
    "duration": 16,
    "start_time": "2021-11-15T16:17:54.414Z"
   },
   {
    "duration": 42,
    "start_time": "2021-11-15T16:17:54.432Z"
   },
   {
    "duration": 21,
    "start_time": "2021-11-15T16:17:54.476Z"
   },
   {
    "duration": 1644,
    "start_time": "2021-11-16T09:13:22.022Z"
   },
   {
    "duration": 31,
    "start_time": "2021-11-16T09:13:23.668Z"
   },
   {
    "duration": 7,
    "start_time": "2021-11-16T09:13:23.701Z"
   },
   {
    "duration": 75,
    "start_time": "2021-11-16T09:13:23.710Z"
   },
   {
    "duration": 5,
    "start_time": "2021-11-16T09:13:23.788Z"
   },
   {
    "duration": 15,
    "start_time": "2021-11-16T09:13:23.795Z"
   },
   {
    "duration": 20,
    "start_time": "2021-11-16T09:13:23.812Z"
   },
   {
    "duration": 7,
    "start_time": "2021-11-16T09:13:23.836Z"
   },
   {
    "duration": 6,
    "start_time": "2021-11-16T09:13:23.846Z"
   },
   {
    "duration": 255,
    "start_time": "2021-11-16T09:13:23.854Z"
   },
   {
    "duration": 9,
    "start_time": "2021-11-16T09:13:24.111Z"
   },
   {
    "duration": 40,
    "start_time": "2021-11-16T09:13:24.122Z"
   },
   {
    "duration": 5,
    "start_time": "2021-11-16T09:13:24.165Z"
   },
   {
    "duration": 18,
    "start_time": "2021-11-16T09:13:24.173Z"
   },
   {
    "duration": 11,
    "start_time": "2021-11-16T09:13:24.193Z"
   },
   {
    "duration": 211,
    "start_time": "2021-11-16T09:13:24.207Z"
   },
   {
    "duration": 453,
    "start_time": "2021-11-16T09:13:24.420Z"
   },
   {
    "duration": 18,
    "start_time": "2021-11-16T09:13:24.875Z"
   },
   {
    "duration": 12,
    "start_time": "2021-11-16T09:13:24.896Z"
   },
   {
    "duration": 491,
    "start_time": "2021-11-16T09:13:24.910Z"
   },
   {
    "duration": 254,
    "start_time": "2021-11-16T09:13:25.403Z"
   },
   {
    "duration": 427,
    "start_time": "2021-11-16T09:13:25.660Z"
   },
   {
    "duration": 528,
    "start_time": "2021-11-16T09:13:26.092Z"
   },
   {
    "duration": 190,
    "start_time": "2021-11-16T09:13:26.622Z"
   },
   {
    "duration": 359,
    "start_time": "2021-11-16T09:13:26.814Z"
   },
   {
    "duration": 388,
    "start_time": "2021-11-16T09:13:27.175Z"
   },
   {
    "duration": 527,
    "start_time": "2021-11-16T09:13:27.565Z"
   },
   {
    "duration": 4,
    "start_time": "2021-11-16T09:13:28.094Z"
   },
   {
    "duration": 444,
    "start_time": "2021-11-16T09:13:28.100Z"
   },
   {
    "duration": 3,
    "start_time": "2021-11-16T09:13:28.546Z"
   },
   {
    "duration": 409,
    "start_time": "2021-11-16T09:13:28.551Z"
   },
   {
    "duration": 10,
    "start_time": "2021-11-16T09:13:28.962Z"
   },
   {
    "duration": 11,
    "start_time": "2021-11-16T09:13:28.975Z"
   },
   {
    "duration": 14,
    "start_time": "2021-11-16T09:13:28.989Z"
   },
   {
    "duration": 39,
    "start_time": "2021-11-16T09:13:29.006Z"
   },
   {
    "duration": 20,
    "start_time": "2021-11-16T09:13:29.047Z"
   },
   {
    "duration": 158,
    "start_time": "2021-11-16T09:19:28.427Z"
   },
   {
    "duration": 9,
    "start_time": "2021-11-16T09:19:41.494Z"
   },
   {
    "duration": 8,
    "start_time": "2021-11-16T09:19:59.968Z"
   },
   {
    "duration": 7,
    "start_time": "2021-11-16T09:20:28.082Z"
   },
   {
    "duration": 8,
    "start_time": "2021-11-16T09:20:35.059Z"
   },
   {
    "duration": 109,
    "start_time": "2021-11-16T09:21:44.186Z"
   },
   {
    "duration": 366,
    "start_time": "2021-11-16T09:21:59.831Z"
   },
   {
    "duration": 347,
    "start_time": "2021-11-16T09:22:22.809Z"
   },
   {
    "duration": 490,
    "start_time": "2021-11-16T09:22:37.482Z"
   },
   {
    "duration": 310,
    "start_time": "2021-11-16T09:26:03.319Z"
   },
   {
    "duration": 379,
    "start_time": "2021-11-16T09:26:36.951Z"
   },
   {
    "duration": 7143,
    "start_time": "2021-11-16T09:27:03.315Z"
   },
   {
    "duration": 110,
    "start_time": "2021-11-16T09:27:51.656Z"
   },
   {
    "duration": 1152,
    "start_time": "2021-11-16T09:28:01.025Z"
   },
   {
    "duration": 37,
    "start_time": "2021-11-16T09:28:02.179Z"
   },
   {
    "duration": 9,
    "start_time": "2021-11-16T09:28:02.219Z"
   },
   {
    "duration": 66,
    "start_time": "2021-11-16T09:28:02.231Z"
   },
   {
    "duration": 5,
    "start_time": "2021-11-16T09:28:02.299Z"
   },
   {
    "duration": 11,
    "start_time": "2021-11-16T09:28:02.306Z"
   },
   {
    "duration": 40,
    "start_time": "2021-11-16T09:28:02.319Z"
   },
   {
    "duration": 7228,
    "start_time": "2021-11-16T09:28:02.362Z"
   },
   {
    "duration": 140,
    "start_time": "2021-11-16T09:28:09.453Z"
   },
   {
    "duration": 136,
    "start_time": "2021-11-16T09:28:09.459Z"
   },
   {
    "duration": 131,
    "start_time": "2021-11-16T09:28:09.465Z"
   },
   {
    "duration": 124,
    "start_time": "2021-11-16T09:28:09.473Z"
   },
   {
    "duration": 120,
    "start_time": "2021-11-16T09:28:09.479Z"
   },
   {
    "duration": 114,
    "start_time": "2021-11-16T09:28:09.486Z"
   },
   {
    "duration": 110,
    "start_time": "2021-11-16T09:28:09.491Z"
   },
   {
    "duration": 105,
    "start_time": "2021-11-16T09:28:09.497Z"
   },
   {
    "duration": 101,
    "start_time": "2021-11-16T09:28:09.501Z"
   },
   {
    "duration": 96,
    "start_time": "2021-11-16T09:28:09.507Z"
   },
   {
    "duration": 92,
    "start_time": "2021-11-16T09:28:09.512Z"
   },
   {
    "duration": 86,
    "start_time": "2021-11-16T09:28:09.519Z"
   },
   {
    "duration": 82,
    "start_time": "2021-11-16T09:28:09.524Z"
   },
   {
    "duration": 76,
    "start_time": "2021-11-16T09:28:09.531Z"
   },
   {
    "duration": 71,
    "start_time": "2021-11-16T09:28:09.537Z"
   },
   {
    "duration": 64,
    "start_time": "2021-11-16T09:28:09.545Z"
   },
   {
    "duration": 31,
    "start_time": "2021-11-16T09:28:09.580Z"
   },
   {
    "duration": 23,
    "start_time": "2021-11-16T09:28:09.589Z"
   },
   {
    "duration": 19,
    "start_time": "2021-11-16T09:28:09.594Z"
   },
   {
    "duration": 14,
    "start_time": "2021-11-16T09:28:09.600Z"
   },
   {
    "duration": 10,
    "start_time": "2021-11-16T09:28:09.605Z"
   },
   {
    "duration": 5,
    "start_time": "2021-11-16T09:28:09.611Z"
   },
   {
    "duration": 0,
    "start_time": "2021-11-16T09:28:09.617Z"
   },
   {
    "duration": -5,
    "start_time": "2021-11-16T09:28:09.623Z"
   },
   {
    "duration": -9,
    "start_time": "2021-11-16T09:28:09.628Z"
   },
   {
    "duration": -17,
    "start_time": "2021-11-16T09:28:09.637Z"
   },
   {
    "duration": -22,
    "start_time": "2021-11-16T09:28:09.643Z"
   },
   {
    "duration": -25,
    "start_time": "2021-11-16T09:28:09.648Z"
   },
   {
    "duration": 9,
    "start_time": "2021-11-16T09:28:26.664Z"
   },
   {
    "duration": 9,
    "start_time": "2021-11-16T09:28:52.708Z"
   },
   {
    "duration": 9,
    "start_time": "2021-11-16T09:29:32.959Z"
   },
   {
    "duration": 22,
    "start_time": "2021-11-16T09:30:07.026Z"
   },
   {
    "duration": 11,
    "start_time": "2021-11-16T09:30:18.401Z"
   },
   {
    "duration": 309,
    "start_time": "2021-11-16T09:42:43.803Z"
   },
   {
    "duration": 1188,
    "start_time": "2021-11-16T09:43:21.249Z"
   },
   {
    "duration": 31,
    "start_time": "2021-11-16T09:43:22.440Z"
   },
   {
    "duration": 8,
    "start_time": "2021-11-16T09:43:22.473Z"
   },
   {
    "duration": 54,
    "start_time": "2021-11-16T09:43:22.483Z"
   },
   {
    "duration": 4,
    "start_time": "2021-11-16T09:43:22.539Z"
   },
   {
    "duration": 12,
    "start_time": "2021-11-16T09:43:22.553Z"
   },
   {
    "duration": 26,
    "start_time": "2021-11-16T09:43:22.566Z"
   },
   {
    "duration": 12,
    "start_time": "2021-11-16T09:43:22.595Z"
   },
   {
    "duration": 7,
    "start_time": "2021-11-16T09:43:22.609Z"
   },
   {
    "duration": 264,
    "start_time": "2021-11-16T09:43:22.618Z"
   },
   {
    "duration": 8,
    "start_time": "2021-11-16T09:43:22.883Z"
   },
   {
    "duration": 30,
    "start_time": "2021-11-16T09:43:22.893Z"
   },
   {
    "duration": 21,
    "start_time": "2021-11-16T09:43:22.925Z"
   },
   {
    "duration": 10,
    "start_time": "2021-11-16T09:43:22.948Z"
   },
   {
    "duration": 9,
    "start_time": "2021-11-16T09:43:22.960Z"
   },
   {
    "duration": 225,
    "start_time": "2021-11-16T09:43:22.971Z"
   },
   {
    "duration": 441,
    "start_time": "2021-11-16T09:43:23.198Z"
   },
   {
    "duration": 18,
    "start_time": "2021-11-16T09:43:23.644Z"
   },
   {
    "duration": 12,
    "start_time": "2021-11-16T09:43:23.664Z"
   },
   {
    "duration": 484,
    "start_time": "2021-11-16T09:43:23.679Z"
   },
   {
    "duration": 261,
    "start_time": "2021-11-16T09:43:24.166Z"
   },
   {
    "duration": 455,
    "start_time": "2021-11-16T09:43:24.430Z"
   },
   {
    "duration": 535,
    "start_time": "2021-11-16T09:43:24.889Z"
   },
   {
    "duration": 191,
    "start_time": "2021-11-16T09:43:25.427Z"
   },
   {
    "duration": 358,
    "start_time": "2021-11-16T09:43:25.620Z"
   },
   {
    "duration": 380,
    "start_time": "2021-11-16T09:43:25.979Z"
   },
   {
    "duration": 533,
    "start_time": "2021-11-16T09:43:26.361Z"
   },
   {
    "duration": 5,
    "start_time": "2021-11-16T09:43:26.897Z"
   },
   {
    "duration": 499,
    "start_time": "2021-11-16T09:43:26.904Z"
   },
   {
    "duration": 4,
    "start_time": "2021-11-16T09:43:27.405Z"
   },
   {
    "duration": 506,
    "start_time": "2021-11-16T09:43:27.411Z"
   },
   {
    "duration": 27,
    "start_time": "2021-11-16T09:43:27.919Z"
   },
   {
    "duration": 14,
    "start_time": "2021-11-16T09:43:27.949Z"
   },
   {
    "duration": 17,
    "start_time": "2021-11-16T09:43:27.965Z"
   },
   {
    "duration": 16,
    "start_time": "2021-11-16T09:43:27.984Z"
   },
   {
    "duration": 16,
    "start_time": "2021-11-16T09:43:28.002Z"
   },
   {
    "duration": 17,
    "start_time": "2021-11-16T09:43:54.629Z"
   },
   {
    "duration": 33,
    "start_time": "2021-11-16T09:44:07.845Z"
   },
   {
    "duration": 17,
    "start_time": "2021-11-16T09:44:12.443Z"
   },
   {
    "duration": 8,
    "start_time": "2021-11-16T09:45:07.807Z"
   },
   {
    "duration": 1274,
    "start_time": "2021-11-16T09:54:56.552Z"
   },
   {
    "duration": 34,
    "start_time": "2021-11-16T09:54:57.828Z"
   },
   {
    "duration": 8,
    "start_time": "2021-11-16T09:54:57.865Z"
   },
   {
    "duration": 57,
    "start_time": "2021-11-16T09:54:57.875Z"
   },
   {
    "duration": 4,
    "start_time": "2021-11-16T09:54:57.933Z"
   },
   {
    "duration": 15,
    "start_time": "2021-11-16T09:54:57.939Z"
   },
   {
    "duration": 24,
    "start_time": "2021-11-16T09:54:57.956Z"
   },
   {
    "duration": 12,
    "start_time": "2021-11-16T09:54:57.984Z"
   },
   {
    "duration": 9,
    "start_time": "2021-11-16T09:54:57.998Z"
   },
   {
    "duration": 267,
    "start_time": "2021-11-16T09:54:58.009Z"
   },
   {
    "duration": 8,
    "start_time": "2021-11-16T09:54:58.278Z"
   },
   {
    "duration": 34,
    "start_time": "2021-11-16T09:54:58.288Z"
   },
   {
    "duration": 5,
    "start_time": "2021-11-16T09:54:58.323Z"
   },
   {
    "duration": 20,
    "start_time": "2021-11-16T09:54:58.330Z"
   },
   {
    "duration": 12,
    "start_time": "2021-11-16T09:54:58.351Z"
   },
   {
    "duration": 230,
    "start_time": "2021-11-16T09:54:58.365Z"
   },
   {
    "duration": 432,
    "start_time": "2021-11-16T09:54:58.597Z"
   },
   {
    "duration": 22,
    "start_time": "2021-11-16T09:54:59.031Z"
   },
   {
    "duration": 14,
    "start_time": "2021-11-16T09:54:59.055Z"
   },
   {
    "duration": 461,
    "start_time": "2021-11-16T09:54:59.071Z"
   },
   {
    "duration": 250,
    "start_time": "2021-11-16T09:54:59.534Z"
   },
   {
    "duration": 424,
    "start_time": "2021-11-16T09:54:59.785Z"
   },
   {
    "duration": 557,
    "start_time": "2021-11-16T09:55:00.214Z"
   },
   {
    "duration": 190,
    "start_time": "2021-11-16T09:55:00.773Z"
   },
   {
    "duration": 372,
    "start_time": "2021-11-16T09:55:00.965Z"
   },
   {
    "duration": 399,
    "start_time": "2021-11-16T09:55:01.340Z"
   },
   {
    "duration": 596,
    "start_time": "2021-11-16T09:55:01.744Z"
   },
   {
    "duration": 6,
    "start_time": "2021-11-16T09:55:02.342Z"
   },
   {
    "duration": 455,
    "start_time": "2021-11-16T09:55:02.351Z"
   },
   {
    "duration": 5,
    "start_time": "2021-11-16T09:55:02.808Z"
   },
   {
    "duration": 410,
    "start_time": "2021-11-16T09:55:02.815Z"
   },
   {
    "duration": 29,
    "start_time": "2021-11-16T09:55:03.227Z"
   },
   {
    "duration": 10,
    "start_time": "2021-11-16T09:55:03.258Z"
   },
   {
    "duration": 19,
    "start_time": "2021-11-16T09:55:03.270Z"
   },
   {
    "duration": 20,
    "start_time": "2021-11-16T09:55:03.291Z"
   },
   {
    "duration": 17,
    "start_time": "2021-11-16T09:55:03.313Z"
   },
   {
    "duration": 1113,
    "start_time": "2021-11-16T16:28:38.903Z"
   },
   {
    "duration": 31,
    "start_time": "2021-11-16T16:28:40.019Z"
   },
   {
    "duration": 26,
    "start_time": "2021-11-16T16:28:40.051Z"
   },
   {
    "duration": 72,
    "start_time": "2021-11-16T16:28:40.079Z"
   },
   {
    "duration": 15,
    "start_time": "2021-11-16T16:28:40.153Z"
   },
   {
    "duration": 15,
    "start_time": "2021-11-16T16:28:40.169Z"
   },
   {
    "duration": 38,
    "start_time": "2021-11-16T16:28:40.186Z"
   },
   {
    "duration": 39,
    "start_time": "2021-11-16T16:28:40.226Z"
   },
   {
    "duration": 19,
    "start_time": "2021-11-16T16:28:40.267Z"
   },
   {
    "duration": 245,
    "start_time": "2021-11-16T16:28:40.288Z"
   },
   {
    "duration": 7,
    "start_time": "2021-11-16T16:28:40.535Z"
   },
   {
    "duration": 48,
    "start_time": "2021-11-16T16:28:40.544Z"
   },
   {
    "duration": 21,
    "start_time": "2021-11-16T16:28:40.593Z"
   },
   {
    "duration": 20,
    "start_time": "2021-11-16T16:28:40.616Z"
   },
   {
    "duration": 26,
    "start_time": "2021-11-16T16:28:40.638Z"
   },
   {
    "duration": 203,
    "start_time": "2021-11-16T16:28:40.666Z"
   },
   {
    "duration": 406,
    "start_time": "2021-11-16T16:28:40.871Z"
   },
   {
    "duration": 21,
    "start_time": "2021-11-16T16:28:41.279Z"
   },
   {
    "duration": 13,
    "start_time": "2021-11-16T16:28:41.302Z"
   },
   {
    "duration": 406,
    "start_time": "2021-11-16T16:28:41.316Z"
   },
   {
    "duration": 226,
    "start_time": "2021-11-16T16:28:41.724Z"
   },
   {
    "duration": 382,
    "start_time": "2021-11-16T16:28:41.952Z"
   },
   {
    "duration": 497,
    "start_time": "2021-11-16T16:28:42.337Z"
   },
   {
    "duration": 163,
    "start_time": "2021-11-16T16:28:42.836Z"
   },
   {
    "duration": 326,
    "start_time": "2021-11-16T16:28:43.001Z"
   },
   {
    "duration": 345,
    "start_time": "2021-11-16T16:28:43.329Z"
   },
   {
    "duration": 534,
    "start_time": "2021-11-16T16:28:43.676Z"
   },
   {
    "duration": 4,
    "start_time": "2021-11-16T16:28:44.212Z"
   },
   {
    "duration": 430,
    "start_time": "2021-11-16T16:28:44.218Z"
   },
   {
    "duration": 5,
    "start_time": "2021-11-16T16:28:44.651Z"
   },
   {
    "duration": 374,
    "start_time": "2021-11-16T16:28:44.658Z"
   },
   {
    "duration": 10,
    "start_time": "2021-11-16T16:28:45.033Z"
   },
   {
    "duration": 20,
    "start_time": "2021-11-16T16:28:45.045Z"
   },
   {
    "duration": 26,
    "start_time": "2021-11-16T16:28:45.067Z"
   },
   {
    "duration": 26,
    "start_time": "2021-11-16T16:28:45.094Z"
   },
   {
    "duration": 20,
    "start_time": "2021-11-16T16:28:45.121Z"
   },
   {
    "duration": 1019,
    "start_time": "2021-11-17T16:58:25.060Z"
   },
   {
    "duration": 6,
    "start_time": "2021-11-17T16:58:33.801Z"
   },
   {
    "duration": 433,
    "start_time": "2021-11-17T17:07:33.529Z"
   },
   {
    "duration": 1126,
    "start_time": "2021-11-28T16:04:47.041Z"
   },
   {
    "duration": 28,
    "start_time": "2021-11-28T16:04:48.169Z"
   },
   {
    "duration": 6,
    "start_time": "2021-11-28T16:04:48.199Z"
   },
   {
    "duration": 51,
    "start_time": "2021-11-28T16:04:48.207Z"
   },
   {
    "duration": 4,
    "start_time": "2021-11-28T16:04:48.259Z"
   },
   {
    "duration": 7,
    "start_time": "2021-11-28T16:04:48.264Z"
   },
   {
    "duration": 18,
    "start_time": "2021-11-28T16:04:48.273Z"
   },
   {
    "duration": 10,
    "start_time": "2021-11-28T16:04:48.293Z"
   },
   {
    "duration": 4,
    "start_time": "2021-11-28T16:04:48.305Z"
   },
   {
    "duration": 243,
    "start_time": "2021-11-28T16:04:48.311Z"
   },
   {
    "duration": 8,
    "start_time": "2021-11-28T16:04:48.556Z"
   },
   {
    "duration": 35,
    "start_time": "2021-11-28T16:04:48.567Z"
   },
   {
    "duration": 6,
    "start_time": "2021-11-28T16:04:48.604Z"
   },
   {
    "duration": 7,
    "start_time": "2021-11-28T16:04:48.612Z"
   },
   {
    "duration": 24,
    "start_time": "2021-11-28T16:04:48.621Z"
   },
   {
    "duration": 190,
    "start_time": "2021-11-28T16:04:48.648Z"
   },
   {
    "duration": 385,
    "start_time": "2021-11-28T16:04:48.840Z"
   },
   {
    "duration": 24,
    "start_time": "2021-11-28T16:04:49.226Z"
   },
   {
    "duration": 11,
    "start_time": "2021-11-28T16:04:49.251Z"
   },
   {
    "duration": 399,
    "start_time": "2021-11-28T16:04:49.264Z"
   },
   {
    "duration": 208,
    "start_time": "2021-11-28T16:04:49.664Z"
   },
   {
    "duration": 366,
    "start_time": "2021-11-28T16:04:49.874Z"
   },
   {
    "duration": 481,
    "start_time": "2021-11-28T16:04:50.246Z"
   },
   {
    "duration": 164,
    "start_time": "2021-11-28T16:04:50.729Z"
   },
   {
    "duration": 306,
    "start_time": "2021-11-28T16:04:50.895Z"
   },
   {
    "duration": 366,
    "start_time": "2021-11-28T16:04:51.203Z"
   },
   {
    "duration": 493,
    "start_time": "2021-11-28T16:04:51.570Z"
   },
   {
    "duration": 3,
    "start_time": "2021-11-28T16:04:52.065Z"
   },
   {
    "duration": 412,
    "start_time": "2021-11-28T16:04:52.070Z"
   },
   {
    "duration": 4,
    "start_time": "2021-11-28T16:04:52.483Z"
   },
   {
    "duration": 363,
    "start_time": "2021-11-28T16:04:52.488Z"
   },
   {
    "duration": 10,
    "start_time": "2021-11-28T16:04:52.852Z"
   },
   {
    "duration": 8,
    "start_time": "2021-11-28T16:04:52.864Z"
   },
   {
    "duration": 11,
    "start_time": "2021-11-28T16:04:52.873Z"
   },
   {
    "duration": 9,
    "start_time": "2021-11-28T16:04:52.886Z"
   },
   {
    "duration": 12,
    "start_time": "2021-11-28T16:04:52.897Z"
   },
   {
    "duration": 368,
    "start_time": "2021-11-28T16:04:52.911Z"
   }
  ],
  "kernelspec": {
   "display_name": "Python 3",
   "language": "python",
   "name": "python3"
  },
  "language_info": {
   "codemirror_mode": {
    "name": "ipython",
    "version": 3
   },
   "file_extension": ".py",
   "mimetype": "text/x-python",
   "name": "python",
   "nbconvert_exporter": "python",
   "pygments_lexer": "ipython3",
   "version": "3.8.8"
  },
  "toc": {
   "base_numbering": 1,
   "nav_menu": {},
   "number_sections": true,
   "sideBar": true,
   "skip_h1_title": true,
   "title_cell": "Table of Contents",
   "title_sidebar": "Contents",
   "toc_cell": false,
   "toc_position": {},
   "toc_section_display": true,
   "toc_window_display": false
  }
 },
 "nbformat": 4,
 "nbformat_minor": 2
}
